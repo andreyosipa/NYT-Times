{
 "metadata": {
  "name": "",
  "signature": "sha256:63e7a156524d12588f1c4245fe060bb46af962a65c6bfa284fa92577957d8744"
 },
 "nbformat": 3,
 "nbformat_minor": 0,
 "worksheets": [
  {
   "cells": [
    {
     "cell_type": "markdown",
     "metadata": {
      "slideshow": {
       "slide_type": "slide"
      }
     },
     "source": [
      "## Using NY Times APIs"
     ]
    },
    {
     "cell_type": "markdown",
     "metadata": {
      "slideshow": {
       "slide_type": "fragment"
      }
     },
     "source": [
      "What are APIs?\n",
      "\n",
      "Structured ways people can give you their data."
     ]
    },
    {
     "cell_type": "markdown",
     "metadata": {
      "slideshow": {
       "slide_type": "slide"
      }
     },
     "source": [
      "Why?\n",
      "\n",
      "Usually because they want to help web/mobile developers attract more users to their service."
     ]
    },
    {
     "cell_type": "markdown",
     "metadata": {},
     "source": [
      "Twitter doesn't have an API to help you out.\n",
      "\n",
      "They want developers to build apps to drive more eyeballs to their service."
     ]
    },
    {
     "cell_type": "markdown",
     "metadata": {
      "slideshow": {
       "slide_type": "slide"
      }
     },
     "source": [
      "![](https://raw.github.com/nealcaren/workshop_2014/master/notebooks/images/times_inequality.png)"
     ]
    },
    {
     "cell_type": "markdown",
     "metadata": {
      "slideshow": {
       "slide_type": "slide"
      }
     },
     "source": [
      "No love with the scrape!!!\n",
      "\n",
      "![](https://raw.github.com/nealcaren/workshop_2014/master/notebooks/images/no_luck.png)"
     ]
    },
    {
     "cell_type": "code",
     "collapsed": false,
     "input": [
      "import requests"
     ],
     "language": "python",
     "metadata": {
      "slideshow": {
       "slide_type": "slide"
      }
     },
     "outputs": [],
     "prompt_number": 1
    },
    {
     "cell_type": "markdown",
     "metadata": {
      "slideshow": {
       "slide_type": "slide"
      }
     },
     "source": [
      "Do me a favor and sign up to be a [developer](http://developer.nytimes.com) with the New York Times and get your own API key."
     ]
    },
    {
     "cell_type": "code",
     "collapsed": false,
     "input": [
      "my_times_api_key = 'e7ec07ad9e40864d34572e388dbf7550:10:72608102'"
     ],
     "language": "python",
     "metadata": {},
     "outputs": [],
     "prompt_number": 2
    },
    {
     "cell_type": "markdown",
     "metadata": {
      "slideshow": {
       "slide_type": "slide"
      }
     },
     "source": [
      "APIs can be accessed like a normal URL, but they are often very long, complicated, and involve variables you want to change. For example, you can get the information about the first 10 articles published in the New York Times that used the word Ukraine with:\n",
      "\n",
      "[http://api.nytimes.com/svc/search/v2/articlesearch.json?sort=newest&begin_date=20130101&end_date=20131231&api-key=d20bc9ac37156ecc4cb3d78eb956201d%3A0%3A54059647&q=Ukraine&page=0](http://api.nytimes.com/svc/search/v2/articlesearch.json?sort=newest&begin_date=20130101&end_date=20131231&api-key=d20bc9ac37156ecc4cb3d78eb956201d%3A0%3A54059647&q=Ukraine&page=0)\n",
      "\n",
      "Requests allows you to do this in a more civilized way."
     ]
    },
    {
     "cell_type": "code",
     "collapsed": false,
     "input": [
      "payload = {'q'         : 'Ukraine', \n",
      "           'begin_date': '20150101' ,\n",
      "           'end_date'  : '20151231',\n",
      "           'api-key'   :  my_times_api_key,\n",
      "           'sort'      : 'oldest' ,\n",
      "           'offset'    :  20}\n",
      "\n",
      "base_url = 'http://api.nytimes.com/svc/search/v2/articlesearch.json?'"
     ],
     "language": "python",
     "metadata": {
      "slideshow": {
       "slide_type": "slide"
      }
     },
     "outputs": [],
     "prompt_number": 3
    },
    {
     "cell_type": "code",
     "collapsed": false,
     "input": [
      "r = requests.get(base_url, params = payload)\n",
      "\n",
      "r.url"
     ],
     "language": "python",
     "metadata": {},
     "outputs": [
      {
       "metadata": {},
       "output_type": "pyout",
       "prompt_number": 4,
       "text": [
        "u'http://api.nytimes.com/svc/search/v2/articlesearch.json?sort=oldest&begin_date=20150101&end_date=20151231&api-key=e7ec07ad9e40864d34572e388dbf7550%3A10%3A72608102&q=Ukraine&offset=20'"
       ]
      }
     ],
     "prompt_number": 4
    },
    {
     "cell_type": "code",
     "collapsed": false,
     "input": [
      "r.text"
     ],
     "language": "python",
     "metadata": {
      "slideshow": {
       "slide_type": "slide"
      }
     },
     "outputs": [
      {
       "metadata": {},
       "output_type": "pyout",
       "prompt_number": 5,
       "text": [
        "u'{\"response\":{\"meta\":{\"hits\":4170,\"time\":87,\"offset\":0},\"docs\":[{\"web_url\":\"http:\\\\/\\\\/www.nytimes.com\\\\/2015\\\\/01\\\\/01\\\\/business\\\\/international\\\\/airasia-tony-fernandes-responds-to-crisis-with-quick-compassion.html\",\"snippet\":\"The actions of Tony Fernandes, the chief executive of the Malaysian company, have been compared favorably to the response of Malaysia Airlines earlier in 2014.\",\"lead_paragraph\":\"The actions of Tony Fernandes, the chief executive of the Malaysian company, have been compared favorably to the response of Malaysia Airlines earlier in 2014.\",\"abstract\":\"Handling of latest fatal AirAsia crash by chief executive Tony Fernandes has received far better public response than that by Malaysia Airlines for management of its disaster earlier in 2014; Fernandes addressed situation with the same compassionate, hands-on approach that has won him praise for his turnaround of AirAsia as a whole, which was deeply in debt and under state control 13 years earlier.\",\"print_page\":\"1\",\"blog\":[],\"source\":\"The New York Times\",\"multimedia\":[{\"width\":190,\"url\":\"images\\\\/2014\\\\/12\\\\/31\\\\/business\\\\/01airaisa1\\\\/01airaisa1-thumbWide.jpg\",\"height\":126,\"subtype\":\"wide\",\"legacy\":{\"wide\":\"images\\\\/2014\\\\/12\\\\/31\\\\/business\\\\/01airaisa1\\\\/01airaisa1-thumbWide.jpg\",\"wideheight\":\"126\",\"widewidth\":\"190\"},\"type\":\"image\"},{\"width\":600,\"url\":\"images\\\\/2014\\\\/12\\\\/31\\\\/business\\\\/01airaisa1\\\\/01airaisa1-articleLarge.jpg\",\"height\":438,\"subtype\":\"xlarge\",\"legacy\":{\"xlargewidth\":\"600\",\"xlarge\":\"images\\\\/2014\\\\/12\\\\/31\\\\/business\\\\/01airaisa1\\\\/01airaisa1-articleLarge.jpg\",\"xlargeheight\":\"438\"},\"type\":\"image\"},{\"width\":75,\"url\":\"images\\\\/2014\\\\/12\\\\/31\\\\/business\\\\/01airaisa1\\\\/01airaisa1-thumbStandard.jpg\",\"height\":75,\"subtype\":\"thumbnail\",\"legacy\":{\"thumbnailheight\":\"75\",\"thumbnail\":\"images\\\\/2014\\\\/12\\\\/31\\\\/business\\\\/01airaisa1\\\\/01airaisa1-thumbStandard.jpg\",\"thumbnailwidth\":\"75\"},\"type\":\"image\"}],\"headline\":{\"main\":\"AirAsia\\\\u2019s Chief Responds to Crisis With Quick Compassion\",\"print_headline\":\"AirAsia\\\\u2019s Chief Responds Quickly and With Compassion\"},\"keywords\":[{\"rank\":\"1\",\"is_major\":\"Y\",\"name\":\"subject\",\"value\":\"AirAsia Flight 8501\"},{\"rank\":\"2\",\"is_major\":\"Y\",\"name\":\"subject\",\"value\":\"Aviation Accidents, Safety and Disasters\"},{\"rank\":\"3\",\"is_major\":\"Y\",\"name\":\"persons\",\"value\":\"Fernandes, Tony (1964- )\"},{\"rank\":\"4\",\"is_major\":\"Y\",\"name\":\"organizations\",\"value\":\"AirAsia\"},{\"rank\":\"5\",\"is_major\":\"N\",\"name\":\"glocations\",\"value\":\"Indonesia\"}],\"pub_date\":\"2015-01-01T00:00:00Z\",\"document_type\":\"article\",\"news_desk\":\"Business\",\"section_name\":\"Business Day\",\"subsection_name\":\"International Business\",\"byline\":{\"contributor\":\"Austin Ramzy contributed reporting from Hong Kong and Michael Forsythe from Putrajaya, Malaysia.\",\"person\":[{\"organization\":\"\",\"role\":\"reported\",\"firstname\":\"Alexandra\",\"rank\":1,\"lastname\":\"STEVENSON\"},{\"organization\":\"\",\"role\":\"reported\",\"firstname\":\"Neil\",\"rank\":2,\"lastname\":\"GOUGH\"}],\"original\":\"By ALEXANDRA STEVENSON and NEIL GOUGH\"},\"type_of_material\":\"News\",\"_id\":\"54a45a2a38f0d83a07dc3d4d\",\"word_count\":\"1272\"},{\"web_url\":\"http:\\\\/\\\\/www.nytimes.com\\\\/2015\\\\/01\\\\/01\\\\/world\\\\/euro-and-immigration-promise-challenges-for-merkel-in-2015.html\",\"snippet\":\"Though she is still popular at home and respected abroad, might this be the year Chancellor Angela Merkel loses her touch?\",\"lead_paragraph\":\"Though she is still popular at home and respected abroad, might this be the year Chancellor Angela Merkel loses her touch?\",\"abstract\":\"Memo from Berlin; German Chancellor Angela Merkel faces significant challenges in her 10th year in office as anti-foreigner sentiment grows and Greek economic crisis continues.\",\"print_page\":\"8\",\"blog\":[],\"source\":\"The New York Times\",\"multimedia\":[{\"width\":190,\"url\":\"images\\\\/2015\\\\/01\\\\/01\\\\/world\\\\/MERKEL\\\\/MERKEL-thumbWide.jpg\",\"height\":126,\"subtype\":\"wide\",\"legacy\":{\"wide\":\"images\\\\/2015\\\\/01\\\\/01\\\\/world\\\\/MERKEL\\\\/MERKEL-thumbWide.jpg\",\"wideheight\":\"126\",\"widewidth\":\"190\"},\"type\":\"image\"},{\"width\":600,\"url\":\"images\\\\/2015\\\\/01\\\\/01\\\\/world\\\\/MERKEL\\\\/MERKEL-articleLarge.jpg\",\"height\":388,\"subtype\":\"xlarge\",\"legacy\":{\"xlargewidth\":\"600\",\"xlarge\":\"images\\\\/2015\\\\/01\\\\/01\\\\/world\\\\/MERKEL\\\\/MERKEL-articleLarge.jpg\",\"xlargeheight\":\"388\"},\"type\":\"image\"},{\"width\":75,\"url\":\"images\\\\/2015\\\\/01\\\\/01\\\\/world\\\\/MERKEL\\\\/MERKEL-thumbStandard.jpg\",\"height\":75,\"subtype\":\"thumbnail\",\"legacy\":{\"thumbnailheight\":\"75\",\"thumbnail\":\"images\\\\/2015\\\\/01\\\\/01\\\\/world\\\\/MERKEL\\\\/MERKEL-thumbStandard.jpg\",\"thumbnailwidth\":\"75\"},\"type\":\"image\"}],\"headline\":{\"main\":\"Euro and Immigration Promise Challenges for Merkel in 2015 \",\"content_kicker\":\"Memo From Berlin\",\"kicker\":\"Memo From Berlin\",\"print_headline\":\"Euro and Immigration Promise Challenges for Merkel in 2015\"},\"keywords\":[{\"rank\":\"1\",\"is_major\":\"Y\",\"name\":\"glocations\",\"value\":\"Germany\"},{\"rank\":\"2\",\"is_major\":\"Y\",\"name\":\"persons\",\"value\":\"Merkel, Angela\"},{\"rank\":\"3\",\"is_major\":\"N\",\"name\":\"glocations\",\"value\":\"Europe\"},{\"rank\":\"4\",\"is_major\":\"N\",\"name\":\"subject\",\"value\":\"Immigration and Emigration\"},{\"rank\":\"5\",\"is_major\":\"N\",\"name\":\"glocations\",\"value\":\"Greece\"},{\"rank\":\"6\",\"is_major\":\"N\",\"name\":\"subject\",\"value\":\"Speeches and Statements\"}],\"pub_date\":\"2015-01-01T00:00:00Z\",\"document_type\":\"article\",\"news_desk\":\"Foreign\",\"section_name\":\"World\",\"subsection_name\":\"Europe\",\"byline\":{\"contributor\":\"\",\"person\":[{\"organization\":\"\",\"role\":\"reported\",\"firstname\":\"Alison\",\"rank\":1,\"lastname\":\"SMALE\"}],\"original\":\"By ALISON SMALE\"},\"type_of_material\":\"News\",\"_id\":\"54a4a94e38f0d83a07dc4f6a\",\"word_count\":\"1059\"},{\"web_url\":\"http:\\\\/\\\\/www.nytimes.com\\\\/2015\\\\/01\\\\/01\\\\/world\\\\/europe\\\\/anti-putin-protest-fizzles-as-police-sweep-square.html\",\"snippet\":\"A crackdown showed that Russia\\\\u2019s \\\\u201cwhite ribbon\\\\u201d movement has withered three years after it roared to life hoping to oust Vladimir V. Putin from power.\",\"lead_paragraph\":\"A crackdown showed that Russia\\\\u2019s \\\\u201cwhite ribbon\\\\u201d movement has withered three years after it roared to life hoping to oust Vladimir V. Putin from power.\",\"abstract\":\"Few remaining Russian demonstrators protesting conviction of anticorruption activist Alexsei A Navalny are removed by riot police from Moscow\\'s Manezh Square; Russia\\'s \\'white ribbon\\' opposition movement, which has been working to oust Pres Vladimir Putin since 2011, continues to dwindle as members are prosecuted, flee country or give up hope.\",\"print_page\":\"4\",\"blog\":[],\"source\":\"The New York Times\",\"multimedia\":[{\"width\":190,\"url\":\"images\\\\/2015\\\\/01\\\\/01\\\\/world\\\\/RIBBON-1\\\\/RIBBON-1-thumbWide.jpg\",\"height\":126,\"subtype\":\"wide\",\"legacy\":{\"wide\":\"images\\\\/2015\\\\/01\\\\/01\\\\/world\\\\/RIBBON-1\\\\/RIBBON-1-thumbWide.jpg\",\"wideheight\":\"126\",\"widewidth\":\"190\"},\"type\":\"image\"},{\"width\":600,\"url\":\"images\\\\/2015\\\\/01\\\\/01\\\\/world\\\\/RIBBON-1\\\\/RIBBON-1-articleLarge.jpg\",\"height\":415,\"subtype\":\"xlarge\",\"legacy\":{\"xlargewidth\":\"600\",\"xlarge\":\"images\\\\/2015\\\\/01\\\\/01\\\\/world\\\\/RIBBON-1\\\\/RIBBON-1-articleLarge.jpg\",\"xlargeheight\":\"415\"},\"type\":\"image\"},{\"width\":75,\"url\":\"images\\\\/2015\\\\/01\\\\/01\\\\/world\\\\/RIBBON-1\\\\/RIBBON-1-thumbStandard.jpg\",\"height\":75,\"subtype\":\"thumbnail\",\"legacy\":{\"thumbnailheight\":\"75\",\"thumbnail\":\"images\\\\/2015\\\\/01\\\\/01\\\\/world\\\\/RIBBON-1\\\\/RIBBON-1-thumbStandard.jpg\",\"thumbnailwidth\":\"75\"},\"type\":\"image\"}],\"headline\":{\"main\":\"Anti-Putin Protest Fizzles as Police Sweep Square\",\"print_headline\":\"Anti-Putin Protest Fizzles as Police Sweep Square\"},\"keywords\":[{\"rank\":\"1\",\"is_major\":\"Y\",\"name\":\"glocations\",\"value\":\"Russia\"},{\"rank\":\"2\",\"is_major\":\"Y\",\"name\":\"subject\",\"value\":\"Demonstrations, Protests and Riots\"},{\"rank\":\"3\",\"is_major\":\"Y\",\"name\":\"persons\",\"value\":\"Navalny, Aleksei A\"},{\"rank\":\"4\",\"is_major\":\"Y\",\"name\":\"persons\",\"value\":\"Putin, Vladimir V\"},{\"rank\":\"5\",\"is_major\":\"N\",\"name\":\"persons\",\"value\":\"Sobchak, Kseniya\"},{\"rank\":\"6\",\"is_major\":\"N\",\"name\":\"persons\",\"value\":\"Yashin, Ilya\"},{\"rank\":\"7\",\"is_major\":\"N\",\"name\":\"persons\",\"value\":\"Udaltsov, Sergei\"},{\"rank\":\"8\",\"is_major\":\"N\",\"name\":\"persons\",\"value\":\"Gudkov, Gennadi V\"},{\"rank\":\"9\",\"is_major\":\"N\",\"name\":\"persons\",\"value\":\"Ponomarev, Ilya V\"}],\"pub_date\":\"2015-01-01T00:00:00Z\",\"document_type\":\"article\",\"news_desk\":\"Foreign\",\"section_name\":\"World\",\"subsection_name\":\"Europe\",\"byline\":{\"contributor\":\"Andrew Roth and Nikolay Khalip contributed reporting.\",\"person\":[{\"organization\":\"\",\"role\":\"reported\",\"firstname\":\"David\",\"rank\":1}],\"original\":\"By DAVID M. HERSZENHORN\"},\"type_of_material\":\"News\",\"_id\":\"54a4b05f38f0d83a07dc510b\",\"word_count\":\"1369\"},{\"web_url\":\"http:\\\\/\\\\/www.nytimes.com\\\\/reuters\\\\/2015\\\\/01\\\\/01\\\\/world\\\\/asia\\\\/01reuters-indonesia-airplane.html\",\"snippet\":\"International experts equipped with sophisticated acoustic detection devices joined search teams scouring the sea off Borneo on Friday in the hunt for the black box flight recorders from a crashed Indonesia AirAsia passenger jet.\",\"lead_paragraph\":\"International experts equipped with sophisticated acoustic detection devices joined search teams scouring the sea off Borneo on Friday in the hunt for the black box flight recorders from a crashed Indonesia AirAsia passenger jet.\",\"abstract\":null,\"print_page\":null,\"blog\":[],\"source\":\"Reuters\",\"multimedia\":[],\"headline\":{\"main\":\"Investigators Step Up Hunt for Crashed AirAsia Jet\\'s Black Boxes\",\"print_headline\":\"Investigators Step Up Hunt for Crashed AirAsia Jet\\'s Black Boxes\"},\"keywords\":[],\"pub_date\":\"2015-01-01T00:00:13Z\",\"document_type\":\"article\",\"news_desk\":\"None\",\"section_name\":\"World\",\"subsection_name\":\"Asia Pacific\",\"byline\":{\"person\":[],\"original\":\"By REUTERS\",\"organization\":\"REUTERS\"},\"type_of_material\":\"News\",\"_id\":\"54a4d49438f0d83a07dc5953\",\"word_count\":\"859\"},{\"web_url\":\"http:\\\\/\\\\/www.nytimes.com\\\\/aponline\\\\/2015\\\\/01\\\\/01\\\\/world\\\\/europe\\\\/ap-eu-russia-new-year-mood.html\",\"snippet\":\"At the vast skating rink in Moscow\\'s Gorky Park, Russians say they\\'re looking forward to a 2015 that will be as smooth as the ice, despite the country\\'s economic and political difficulties. The ruble has sunk, tensions with the West are up, but the...\",\"lead_paragraph\":\"At the vast skating rink in Moscow\\'s Gorky Park, Russians say they\\'re looking forward to a 2015 that will be as smooth as the ice, despite the country\\'s economic and political difficulties. The ruble has sunk, tensions with the West are up, but the troubles seem to have produced a surge in national pride.\",\"abstract\":null,\"print_page\":null,\"blog\":[],\"source\":\"AP\",\"multimedia\":[],\"headline\":{\"main\":\"Russians Optimistic for 2015 Despite It All\",\"print_headline\":\"Russians Optimistic for 2015 Despite It All\"},\"keywords\":[],\"pub_date\":\"2015-01-01T03:57:16Z\",\"document_type\":\"article\",\"news_desk\":\"None\",\"section_name\":\"World\",\"subsection_name\":\"Europe\",\"byline\":{\"person\":[],\"original\":\"By THE ASSOCIATED PRESS\",\"organization\":\"THE ASSOCIATED PRESS\"},\"type_of_material\":\"News\",\"_id\":\"54a50cd738f0d83a07dc661c\",\"word_count\":\"796\"},{\"web_url\":\"http:\\\\/\\\\/www.nytimes.com\\\\/reuters\\\\/2015\\\\/01\\\\/01\\\\/world\\\\/europe\\\\/01reuters-ukraine-crisis-conflict.html\",\"snippet\":\"Ukrainian separatists carried out sporadic attacks on government forces as the New Year began, wounding three soldiers, the Kiev military said, as President Petro Poroshenko told the nation to  brace for a year that would \\\\\"not be easy\\\\\".\",\"lead_paragraph\":\"Ukrainian separatists carried out sporadic attacks on government forces as the New Year began, wounding three soldiers, the Kiev military said, as President Petro Poroshenko told the nation to  brace for a year that would \\\\\"not be easy\\\\\".\",\"abstract\":null,\"print_page\":null,\"blog\":[],\"source\":\"Reuters\",\"multimedia\":[],\"headline\":{\"main\":\"Ukraine Says Rebels Keep Up Attacks Into New Year\",\"print_headline\":\"Ukraine Says Rebels Keep Up Attacks Into New Year\"},\"keywords\":[],\"pub_date\":\"2015-01-01T07:25:20Z\",\"document_type\":\"article\",\"news_desk\":\"None\",\"section_name\":\"World\",\"subsection_name\":\"Europe\",\"byline\":{\"person\":[],\"original\":\"By REUTERS\",\"organization\":\"REUTERS\"},\"type_of_material\":\"News\",\"_id\":\"54a53d4938f0d83a07dc70fb\",\"word_count\":\"401\"},{\"web_url\":\"http:\\\\/\\\\/www.nytimes.com\\\\/aponline\\\\/2015\\\\/01\\\\/01\\\\/world\\\\/europe\\\\/ap-eu-europes-new-year-.html\",\"snippet\":\"Beset by critics and buffeted by economic woes, European Union chiefs might have been forgiven for thinking that at least Pope Francis would apply some balm for the New Year in his address to the EU parliament.\",\"lead_paragraph\":\"Beset by critics and buffeted by economic woes, European Union chiefs might have been forgiven for thinking that at least Pope Francis would apply some balm for the New Year in his address to the EU parliament.\",\"abstract\":null,\"print_page\":null,\"blog\":[],\"source\":\"AP\",\"multimedia\":[],\"headline\":{\"main\":\"Troubled EU Hoping the Only Way Is Up in 2015\",\"print_headline\":\"Troubled EU Hoping the Only Way Is Up in 2015\"},\"keywords\":[],\"pub_date\":\"2015-01-01T07:44:52Z\",\"document_type\":\"article\",\"news_desk\":\"None\",\"section_name\":\"World\",\"subsection_name\":\"Europe\",\"byline\":{\"person\":[],\"original\":\"By THE ASSOCIATED PRESS\",\"organization\":\"THE ASSOCIATED PRESS\"},\"type_of_material\":\"News\",\"_id\":\"54a5424138f0d83a07dc7223\",\"word_count\":\"694\"},{\"web_url\":\"http:\\\\/\\\\/www.nytimes.com\\\\/reuters\\\\/2015\\\\/01\\\\/01\\\\/world\\\\/europe\\\\/01reuters-eu-latvia.html\",\"snippet\":\"Latvia took over the six-month rotating presidency of the European Union on Thursday, pledging to launch a 315 billion euro ($381 billion) investment plan for the bloc and hoping to start a review of Europe\\'s border defense.\",\"lead_paragraph\":\"Latvia took over the six-month rotating presidency of the European Union on Thursday, pledging to launch a 315 billion euro ($381 billion) investment plan for the bloc and hoping to start a review of Europe\\'s border defense.\",\"abstract\":null,\"print_page\":null,\"blog\":[],\"source\":\"Reuters\",\"multimedia\":[],\"headline\":{\"main\":\"Latvia Takes EU Reins Focused on Growth Plan, Border Defense\",\"print_headline\":\"Latvia Takes EU Reins Focused on Growth Plan, Border Defense\"},\"keywords\":[],\"pub_date\":\"2015-01-01T09:21:27Z\",\"document_type\":\"article\",\"news_desk\":\"None\",\"section_name\":\"World\",\"subsection_name\":\"Europe\",\"byline\":{\"person\":[],\"original\":\"By REUTERS\",\"organization\":\"REUTERS\"},\"type_of_material\":\"News\",\"_id\":\"54a558b838f0d83a07dc771d\",\"word_count\":\"286\"},{\"web_url\":\"http:\\\\/\\\\/www.nytimes.com\\\\/aponline\\\\/2015\\\\/01\\\\/01\\\\/business\\\\/ap-eu-europes-new-year.html\",\"snippet\":\"Beset by critics and buffeted by economic woes, European Union chiefs might have been forgiven for thinking that at least Pope Francis would apply some balm for the New Year in his address to the EU parliament.\",\"lead_paragraph\":\"Beset by critics and buffeted by economic woes, European Union chiefs might have been forgiven for thinking that at least Pope Francis would apply some balm for the New Year in his address to the EU parliament.\",\"abstract\":null,\"print_page\":null,\"blog\":[],\"source\":\"AP\",\"multimedia\":[],\"headline\":{\"main\":\"Troubled EU Hoping the Only Way Is Up in 2015\",\"print_headline\":\"Troubled EU Hoping the Only Way Is Up in 2015\"},\"keywords\":[],\"pub_date\":\"2015-01-01T11:26:15Z\",\"document_type\":\"article\",\"news_desk\":\"None\",\"section_name\":\"Business Day\",\"subsection_name\":null,\"byline\":{\"person\":[],\"original\":\"By THE ASSOCIATED PRESS\",\"organization\":\"THE ASSOCIATED PRESS\"},\"type_of_material\":\"News\",\"_id\":\"54a5758f38f0d83a07dc7d93\",\"word_count\":\"694\"},{\"web_url\":\"http:\\\\/\\\\/www.nytimes.com\\\\/video\\\\/movies\\\\/100000003386534\\\\/the-english-surgeon-one-doctors-personal-mission-to-save-lives-i.html\",\"snippet\":\"\",\"lead_paragraph\":\"\",\"abstract\":null,\"print_page\":null,\"blog\":[],\"source\":\"Internet Video Archive\",\"multimedia\":[{\"width\":190,\"url\":\"images\\\\/2014\\\\/02\\\\/03\\\\/movies\\\\/video-the-english-surgeon-one-doctors-personal-mission-to-save-lives-i\\\\/video-the-english-surgeon-one-doctors-personal-mission-to-save-lives-i-thumbWide.jpg\",\"height\":126,\"subtype\":\"wide\",\"legacy\":{\"wide\":\"images\\\\/2014\\\\/02\\\\/03\\\\/movies\\\\/video-the-english-surgeon-one-doctors-personal-mission-to-save-lives-i\\\\/video-the-english-surgeon-one-doctors-personal-mission-to-save-lives-i-thumbWide.jpg\",\"wideheight\":\"126\",\"widewidth\":\"190\"},\"type\":\"image\"},{\"width\":600,\"url\":\"images\\\\/2014\\\\/02\\\\/03\\\\/movies\\\\/video-the-english-surgeon-one-doctors-personal-mission-to-save-lives-i\\\\/video-the-english-surgeon-one-doctors-personal-mission-to-save-lives-i-articleLarge.jpg\",\"height\":338,\"subtype\":\"xlarge\",\"legacy\":{\"xlargewidth\":\"600\",\"xlarge\":\"images\\\\/2014\\\\/02\\\\/03\\\\/movies\\\\/video-the-english-surgeon-one-doctors-personal-mission-to-save-lives-i\\\\/video-the-english-surgeon-one-doctors-personal-mission-to-save-lives-i-articleLarge.jpg\",\"xlargeheight\":\"338\"},\"type\":\"image\"},{\"width\":75,\"url\":\"images\\\\/2014\\\\/02\\\\/03\\\\/movies\\\\/video-the-english-surgeon-one-doctors-personal-mission-to-save-lives-i\\\\/video-the-english-surgeon-one-doctors-personal-mission-to-save-lives-i-thumbStandard.jpg\",\"height\":75,\"subtype\":\"thumbnail\",\"legacy\":{\"thumbnailheight\":\"75\",\"thumbnail\":\"images\\\\/2014\\\\/02\\\\/03\\\\/movies\\\\/video-the-english-surgeon-one-doctors-personal-mission-to-save-lives-i\\\\/video-the-english-surgeon-one-doctors-personal-mission-to-save-lives-i-thumbStandard.jpg\",\"thumbnailwidth\":\"75\"},\"type\":\"image\"}],\"headline\":{\"main\":\"The English Surgeon: One Doctor\\'s Personal Mission To Save Lives In The Ukraine\"},\"keywords\":[],\"pub_date\":\"2015-01-01T11:53:55Z\",\"document_type\":\"multimedia\",\"news_desk\":\"Movies\",\"section_name\":\"Movies\",\"subsection_name\":null,\"byline\":{\"person\":[{\"firstname\":\"Pbs\",\"middlename\":\"Home\",\"lastname\":\"Video\",\"rank\":1,\"role\":\"reported\",\"organization\":\"\"}],\"original\":\"PBS Home Video\"},\"type_of_material\":\"Video\",\"_id\":\"54a57bad38f0d83a07dc7ef1\",\"word_count\":\"0\"}]},\"status\":\"OK\",\"copyright\":\"Copyright (c) 2013 The New York Times Company.  All Rights Reserved.\"}'"
       ]
      }
     ],
     "prompt_number": 5
    },
    {
     "cell_type": "code",
     "collapsed": false,
     "input": [
      "r.json()"
     ],
     "language": "python",
     "metadata": {
      "slideshow": {
       "slide_type": "slide"
      }
     },
     "outputs": [
      {
       "metadata": {},
       "output_type": "pyout",
       "prompt_number": 6,
       "text": [
        "{u'copyright': u'Copyright (c) 2013 The New York Times Company.  All Rights Reserved.',\n",
        " u'response': {u'docs': [{u'_id': u'54a45a2a38f0d83a07dc3d4d',\n",
        "    u'abstract': u'Handling of latest fatal AirAsia crash by chief executive Tony Fernandes has received far better public response than that by Malaysia Airlines for management of its disaster earlier in 2014; Fernandes addressed situation with the same compassionate, hands-on approach that has won him praise for his turnaround of AirAsia as a whole, which was deeply in debt and under state control 13 years earlier.',\n",
        "    u'blog': [],\n",
        "    u'byline': {u'contributor': u'Austin Ramzy contributed reporting from Hong Kong and Michael Forsythe from Putrajaya, Malaysia.',\n",
        "     u'original': u'By ALEXANDRA STEVENSON and NEIL GOUGH',\n",
        "     u'person': [{u'firstname': u'Alexandra',\n",
        "       u'lastname': u'STEVENSON',\n",
        "       u'organization': u'',\n",
        "       u'rank': 1,\n",
        "       u'role': u'reported'},\n",
        "      {u'firstname': u'Neil',\n",
        "       u'lastname': u'GOUGH',\n",
        "       u'organization': u'',\n",
        "       u'rank': 2,\n",
        "       u'role': u'reported'}]},\n",
        "    u'document_type': u'article',\n",
        "    u'headline': {u'main': u'AirAsia\\u2019s Chief Responds to Crisis With Quick Compassion',\n",
        "     u'print_headline': u'AirAsia\\u2019s Chief Responds Quickly and With Compassion'},\n",
        "    u'keywords': [{u'is_major': u'Y',\n",
        "      u'name': u'subject',\n",
        "      u'rank': u'1',\n",
        "      u'value': u'AirAsia Flight 8501'},\n",
        "     {u'is_major': u'Y',\n",
        "      u'name': u'subject',\n",
        "      u'rank': u'2',\n",
        "      u'value': u'Aviation Accidents, Safety and Disasters'},\n",
        "     {u'is_major': u'Y',\n",
        "      u'name': u'persons',\n",
        "      u'rank': u'3',\n",
        "      u'value': u'Fernandes, Tony (1964- )'},\n",
        "     {u'is_major': u'Y',\n",
        "      u'name': u'organizations',\n",
        "      u'rank': u'4',\n",
        "      u'value': u'AirAsia'},\n",
        "     {u'is_major': u'N',\n",
        "      u'name': u'glocations',\n",
        "      u'rank': u'5',\n",
        "      u'value': u'Indonesia'}],\n",
        "    u'lead_paragraph': u'The actions of Tony Fernandes, the chief executive of the Malaysian company, have been compared favorably to the response of Malaysia Airlines earlier in 2014.',\n",
        "    u'multimedia': [{u'height': 126,\n",
        "      u'legacy': {u'wide': u'images/2014/12/31/business/01airaisa1/01airaisa1-thumbWide.jpg',\n",
        "       u'wideheight': u'126',\n",
        "       u'widewidth': u'190'},\n",
        "      u'subtype': u'wide',\n",
        "      u'type': u'image',\n",
        "      u'url': u'images/2014/12/31/business/01airaisa1/01airaisa1-thumbWide.jpg',\n",
        "      u'width': 190},\n",
        "     {u'height': 438,\n",
        "      u'legacy': {u'xlarge': u'images/2014/12/31/business/01airaisa1/01airaisa1-articleLarge.jpg',\n",
        "       u'xlargeheight': u'438',\n",
        "       u'xlargewidth': u'600'},\n",
        "      u'subtype': u'xlarge',\n",
        "      u'type': u'image',\n",
        "      u'url': u'images/2014/12/31/business/01airaisa1/01airaisa1-articleLarge.jpg',\n",
        "      u'width': 600},\n",
        "     {u'height': 75,\n",
        "      u'legacy': {u'thumbnail': u'images/2014/12/31/business/01airaisa1/01airaisa1-thumbStandard.jpg',\n",
        "       u'thumbnailheight': u'75',\n",
        "       u'thumbnailwidth': u'75'},\n",
        "      u'subtype': u'thumbnail',\n",
        "      u'type': u'image',\n",
        "      u'url': u'images/2014/12/31/business/01airaisa1/01airaisa1-thumbStandard.jpg',\n",
        "      u'width': 75}],\n",
        "    u'news_desk': u'Business',\n",
        "    u'print_page': u'1',\n",
        "    u'pub_date': u'2015-01-01T00:00:00Z',\n",
        "    u'section_name': u'Business Day',\n",
        "    u'snippet': u'The actions of Tony Fernandes, the chief executive of the Malaysian company, have been compared favorably to the response of Malaysia Airlines earlier in 2014.',\n",
        "    u'source': u'The New York Times',\n",
        "    u'subsection_name': u'International Business',\n",
        "    u'type_of_material': u'News',\n",
        "    u'web_url': u'http://www.nytimes.com/2015/01/01/business/international/airasia-tony-fernandes-responds-to-crisis-with-quick-compassion.html',\n",
        "    u'word_count': u'1272'},\n",
        "   {u'_id': u'54a4a94e38f0d83a07dc4f6a',\n",
        "    u'abstract': u'Memo from Berlin; German Chancellor Angela Merkel faces significant challenges in her 10th year in office as anti-foreigner sentiment grows and Greek economic crisis continues.',\n",
        "    u'blog': [],\n",
        "    u'byline': {u'contributor': u'',\n",
        "     u'original': u'By ALISON SMALE',\n",
        "     u'person': [{u'firstname': u'Alison',\n",
        "       u'lastname': u'SMALE',\n",
        "       u'organization': u'',\n",
        "       u'rank': 1,\n",
        "       u'role': u'reported'}]},\n",
        "    u'document_type': u'article',\n",
        "    u'headline': {u'content_kicker': u'Memo From Berlin',\n",
        "     u'kicker': u'Memo From Berlin',\n",
        "     u'main': u'Euro and Immigration Promise Challenges for Merkel in 2015 ',\n",
        "     u'print_headline': u'Euro and Immigration Promise Challenges for Merkel in 2015'},\n",
        "    u'keywords': [{u'is_major': u'Y',\n",
        "      u'name': u'glocations',\n",
        "      u'rank': u'1',\n",
        "      u'value': u'Germany'},\n",
        "     {u'is_major': u'Y',\n",
        "      u'name': u'persons',\n",
        "      u'rank': u'2',\n",
        "      u'value': u'Merkel, Angela'},\n",
        "     {u'is_major': u'N',\n",
        "      u'name': u'glocations',\n",
        "      u'rank': u'3',\n",
        "      u'value': u'Europe'},\n",
        "     {u'is_major': u'N',\n",
        "      u'name': u'subject',\n",
        "      u'rank': u'4',\n",
        "      u'value': u'Immigration and Emigration'},\n",
        "     {u'is_major': u'N',\n",
        "      u'name': u'glocations',\n",
        "      u'rank': u'5',\n",
        "      u'value': u'Greece'},\n",
        "     {u'is_major': u'N',\n",
        "      u'name': u'subject',\n",
        "      u'rank': u'6',\n",
        "      u'value': u'Speeches and Statements'}],\n",
        "    u'lead_paragraph': u'Though she is still popular at home and respected abroad, might this be the year Chancellor Angela Merkel loses her touch?',\n",
        "    u'multimedia': [{u'height': 126,\n",
        "      u'legacy': {u'wide': u'images/2015/01/01/world/MERKEL/MERKEL-thumbWide.jpg',\n",
        "       u'wideheight': u'126',\n",
        "       u'widewidth': u'190'},\n",
        "      u'subtype': u'wide',\n",
        "      u'type': u'image',\n",
        "      u'url': u'images/2015/01/01/world/MERKEL/MERKEL-thumbWide.jpg',\n",
        "      u'width': 190},\n",
        "     {u'height': 388,\n",
        "      u'legacy': {u'xlarge': u'images/2015/01/01/world/MERKEL/MERKEL-articleLarge.jpg',\n",
        "       u'xlargeheight': u'388',\n",
        "       u'xlargewidth': u'600'},\n",
        "      u'subtype': u'xlarge',\n",
        "      u'type': u'image',\n",
        "      u'url': u'images/2015/01/01/world/MERKEL/MERKEL-articleLarge.jpg',\n",
        "      u'width': 600},\n",
        "     {u'height': 75,\n",
        "      u'legacy': {u'thumbnail': u'images/2015/01/01/world/MERKEL/MERKEL-thumbStandard.jpg',\n",
        "       u'thumbnailheight': u'75',\n",
        "       u'thumbnailwidth': u'75'},\n",
        "      u'subtype': u'thumbnail',\n",
        "      u'type': u'image',\n",
        "      u'url': u'images/2015/01/01/world/MERKEL/MERKEL-thumbStandard.jpg',\n",
        "      u'width': 75}],\n",
        "    u'news_desk': u'Foreign',\n",
        "    u'print_page': u'8',\n",
        "    u'pub_date': u'2015-01-01T00:00:00Z',\n",
        "    u'section_name': u'World',\n",
        "    u'snippet': u'Though she is still popular at home and respected abroad, might this be the year Chancellor Angela Merkel loses her touch?',\n",
        "    u'source': u'The New York Times',\n",
        "    u'subsection_name': u'Europe',\n",
        "    u'type_of_material': u'News',\n",
        "    u'web_url': u'http://www.nytimes.com/2015/01/01/world/euro-and-immigration-promise-challenges-for-merkel-in-2015.html',\n",
        "    u'word_count': u'1059'},\n",
        "   {u'_id': u'54a4b05f38f0d83a07dc510b',\n",
        "    u'abstract': u\"Few remaining Russian demonstrators protesting conviction of anticorruption activist Alexsei A Navalny are removed by riot police from Moscow's Manezh Square; Russia's 'white ribbon' opposition movement, which has been working to oust Pres Vladimir Putin since 2011, continues to dwindle as members are prosecuted, flee country or give up hope.\",\n",
        "    u'blog': [],\n",
        "    u'byline': {u'contributor': u'Andrew Roth and Nikolay Khalip contributed reporting.',\n",
        "     u'original': u'By DAVID M. HERSZENHORN',\n",
        "     u'person': [{u'firstname': u'David',\n",
        "       u'organization': u'',\n",
        "       u'rank': 1,\n",
        "       u'role': u'reported'}]},\n",
        "    u'document_type': u'article',\n",
        "    u'headline': {u'main': u'Anti-Putin Protest Fizzles as Police Sweep Square',\n",
        "     u'print_headline': u'Anti-Putin Protest Fizzles as Police Sweep Square'},\n",
        "    u'keywords': [{u'is_major': u'Y',\n",
        "      u'name': u'glocations',\n",
        "      u'rank': u'1',\n",
        "      u'value': u'Russia'},\n",
        "     {u'is_major': u'Y',\n",
        "      u'name': u'subject',\n",
        "      u'rank': u'2',\n",
        "      u'value': u'Demonstrations, Protests and Riots'},\n",
        "     {u'is_major': u'Y',\n",
        "      u'name': u'persons',\n",
        "      u'rank': u'3',\n",
        "      u'value': u'Navalny, Aleksei A'},\n",
        "     {u'is_major': u'Y',\n",
        "      u'name': u'persons',\n",
        "      u'rank': u'4',\n",
        "      u'value': u'Putin, Vladimir V'},\n",
        "     {u'is_major': u'N',\n",
        "      u'name': u'persons',\n",
        "      u'rank': u'5',\n",
        "      u'value': u'Sobchak, Kseniya'},\n",
        "     {u'is_major': u'N',\n",
        "      u'name': u'persons',\n",
        "      u'rank': u'6',\n",
        "      u'value': u'Yashin, Ilya'},\n",
        "     {u'is_major': u'N',\n",
        "      u'name': u'persons',\n",
        "      u'rank': u'7',\n",
        "      u'value': u'Udaltsov, Sergei'},\n",
        "     {u'is_major': u'N',\n",
        "      u'name': u'persons',\n",
        "      u'rank': u'8',\n",
        "      u'value': u'Gudkov, Gennadi V'},\n",
        "     {u'is_major': u'N',\n",
        "      u'name': u'persons',\n",
        "      u'rank': u'9',\n",
        "      u'value': u'Ponomarev, Ilya V'}],\n",
        "    u'lead_paragraph': u'A crackdown showed that Russia\\u2019s \\u201cwhite ribbon\\u201d movement has withered three years after it roared to life hoping to oust Vladimir V. Putin from power.',\n",
        "    u'multimedia': [{u'height': 126,\n",
        "      u'legacy': {u'wide': u'images/2015/01/01/world/RIBBON-1/RIBBON-1-thumbWide.jpg',\n",
        "       u'wideheight': u'126',\n",
        "       u'widewidth': u'190'},\n",
        "      u'subtype': u'wide',\n",
        "      u'type': u'image',\n",
        "      u'url': u'images/2015/01/01/world/RIBBON-1/RIBBON-1-thumbWide.jpg',\n",
        "      u'width': 190},\n",
        "     {u'height': 415,\n",
        "      u'legacy': {u'xlarge': u'images/2015/01/01/world/RIBBON-1/RIBBON-1-articleLarge.jpg',\n",
        "       u'xlargeheight': u'415',\n",
        "       u'xlargewidth': u'600'},\n",
        "      u'subtype': u'xlarge',\n",
        "      u'type': u'image',\n",
        "      u'url': u'images/2015/01/01/world/RIBBON-1/RIBBON-1-articleLarge.jpg',\n",
        "      u'width': 600},\n",
        "     {u'height': 75,\n",
        "      u'legacy': {u'thumbnail': u'images/2015/01/01/world/RIBBON-1/RIBBON-1-thumbStandard.jpg',\n",
        "       u'thumbnailheight': u'75',\n",
        "       u'thumbnailwidth': u'75'},\n",
        "      u'subtype': u'thumbnail',\n",
        "      u'type': u'image',\n",
        "      u'url': u'images/2015/01/01/world/RIBBON-1/RIBBON-1-thumbStandard.jpg',\n",
        "      u'width': 75}],\n",
        "    u'news_desk': u'Foreign',\n",
        "    u'print_page': u'4',\n",
        "    u'pub_date': u'2015-01-01T00:00:00Z',\n",
        "    u'section_name': u'World',\n",
        "    u'snippet': u'A crackdown showed that Russia\\u2019s \\u201cwhite ribbon\\u201d movement has withered three years after it roared to life hoping to oust Vladimir V. Putin from power.',\n",
        "    u'source': u'The New York Times',\n",
        "    u'subsection_name': u'Europe',\n",
        "    u'type_of_material': u'News',\n",
        "    u'web_url': u'http://www.nytimes.com/2015/01/01/world/europe/anti-putin-protest-fizzles-as-police-sweep-square.html',\n",
        "    u'word_count': u'1369'},\n",
        "   {u'_id': u'54a4d49438f0d83a07dc5953',\n",
        "    u'abstract': None,\n",
        "    u'blog': [],\n",
        "    u'byline': {u'organization': u'REUTERS',\n",
        "     u'original': u'By REUTERS',\n",
        "     u'person': []},\n",
        "    u'document_type': u'article',\n",
        "    u'headline': {u'main': u\"Investigators Step Up Hunt for Crashed AirAsia Jet's Black Boxes\",\n",
        "     u'print_headline': u\"Investigators Step Up Hunt for Crashed AirAsia Jet's Black Boxes\"},\n",
        "    u'keywords': [],\n",
        "    u'lead_paragraph': u'International experts equipped with sophisticated acoustic detection devices joined search teams scouring the sea off Borneo on Friday in the hunt for the black box flight recorders from a crashed Indonesia AirAsia passenger jet.',\n",
        "    u'multimedia': [],\n",
        "    u'news_desk': u'None',\n",
        "    u'print_page': None,\n",
        "    u'pub_date': u'2015-01-01T00:00:13Z',\n",
        "    u'section_name': u'World',\n",
        "    u'snippet': u'International experts equipped with sophisticated acoustic detection devices joined search teams scouring the sea off Borneo on Friday in the hunt for the black box flight recorders from a crashed Indonesia AirAsia passenger jet.',\n",
        "    u'source': u'Reuters',\n",
        "    u'subsection_name': u'Asia Pacific',\n",
        "    u'type_of_material': u'News',\n",
        "    u'web_url': u'http://www.nytimes.com/reuters/2015/01/01/world/asia/01reuters-indonesia-airplane.html',\n",
        "    u'word_count': u'859'},\n",
        "   {u'_id': u'54a50cd738f0d83a07dc661c',\n",
        "    u'abstract': None,\n",
        "    u'blog': [],\n",
        "    u'byline': {u'organization': u'THE ASSOCIATED PRESS',\n",
        "     u'original': u'By THE ASSOCIATED PRESS',\n",
        "     u'person': []},\n",
        "    u'document_type': u'article',\n",
        "    u'headline': {u'main': u'Russians Optimistic for 2015 Despite It All',\n",
        "     u'print_headline': u'Russians Optimistic for 2015 Despite It All'},\n",
        "    u'keywords': [],\n",
        "    u'lead_paragraph': u\"At the vast skating rink in Moscow's Gorky Park, Russians say they're looking forward to a 2015 that will be as smooth as the ice, despite the country's economic and political difficulties. The ruble has sunk, tensions with the West are up, but the troubles seem to have produced a surge in national pride.\",\n",
        "    u'multimedia': [],\n",
        "    u'news_desk': u'None',\n",
        "    u'print_page': None,\n",
        "    u'pub_date': u'2015-01-01T03:57:16Z',\n",
        "    u'section_name': u'World',\n",
        "    u'snippet': u\"At the vast skating rink in Moscow's Gorky Park, Russians say they're looking forward to a 2015 that will be as smooth as the ice, despite the country's economic and political difficulties. The ruble has sunk, tensions with the West are up, but the...\",\n",
        "    u'source': u'AP',\n",
        "    u'subsection_name': u'Europe',\n",
        "    u'type_of_material': u'News',\n",
        "    u'web_url': u'http://www.nytimes.com/aponline/2015/01/01/world/europe/ap-eu-russia-new-year-mood.html',\n",
        "    u'word_count': u'796'},\n",
        "   {u'_id': u'54a53d4938f0d83a07dc70fb',\n",
        "    u'abstract': None,\n",
        "    u'blog': [],\n",
        "    u'byline': {u'organization': u'REUTERS',\n",
        "     u'original': u'By REUTERS',\n",
        "     u'person': []},\n",
        "    u'document_type': u'article',\n",
        "    u'headline': {u'main': u'Ukraine Says Rebels Keep Up Attacks Into New Year',\n",
        "     u'print_headline': u'Ukraine Says Rebels Keep Up Attacks Into New Year'},\n",
        "    u'keywords': [],\n",
        "    u'lead_paragraph': u'Ukrainian separatists carried out sporadic attacks on government forces as the New Year began, wounding three soldiers, the Kiev military said, as President Petro Poroshenko told the nation to  brace for a year that would \"not be easy\".',\n",
        "    u'multimedia': [],\n",
        "    u'news_desk': u'None',\n",
        "    u'print_page': None,\n",
        "    u'pub_date': u'2015-01-01T07:25:20Z',\n",
        "    u'section_name': u'World',\n",
        "    u'snippet': u'Ukrainian separatists carried out sporadic attacks on government forces as the New Year began, wounding three soldiers, the Kiev military said, as President Petro Poroshenko told the nation to  brace for a year that would \"not be easy\".',\n",
        "    u'source': u'Reuters',\n",
        "    u'subsection_name': u'Europe',\n",
        "    u'type_of_material': u'News',\n",
        "    u'web_url': u'http://www.nytimes.com/reuters/2015/01/01/world/europe/01reuters-ukraine-crisis-conflict.html',\n",
        "    u'word_count': u'401'},\n",
        "   {u'_id': u'54a5424138f0d83a07dc7223',\n",
        "    u'abstract': None,\n",
        "    u'blog': [],\n",
        "    u'byline': {u'organization': u'THE ASSOCIATED PRESS',\n",
        "     u'original': u'By THE ASSOCIATED PRESS',\n",
        "     u'person': []},\n",
        "    u'document_type': u'article',\n",
        "    u'headline': {u'main': u'Troubled EU Hoping the Only Way Is Up in 2015',\n",
        "     u'print_headline': u'Troubled EU Hoping the Only Way Is Up in 2015'},\n",
        "    u'keywords': [],\n",
        "    u'lead_paragraph': u'Beset by critics and buffeted by economic woes, European Union chiefs might have been forgiven for thinking that at least Pope Francis would apply some balm for the New Year in his address to the EU parliament.',\n",
        "    u'multimedia': [],\n",
        "    u'news_desk': u'None',\n",
        "    u'print_page': None,\n",
        "    u'pub_date': u'2015-01-01T07:44:52Z',\n",
        "    u'section_name': u'World',\n",
        "    u'snippet': u'Beset by critics and buffeted by economic woes, European Union chiefs might have been forgiven for thinking that at least Pope Francis would apply some balm for the New Year in his address to the EU parliament.',\n",
        "    u'source': u'AP',\n",
        "    u'subsection_name': u'Europe',\n",
        "    u'type_of_material': u'News',\n",
        "    u'web_url': u'http://www.nytimes.com/aponline/2015/01/01/world/europe/ap-eu-europes-new-year-.html',\n",
        "    u'word_count': u'694'},\n",
        "   {u'_id': u'54a558b838f0d83a07dc771d',\n",
        "    u'abstract': None,\n",
        "    u'blog': [],\n",
        "    u'byline': {u'organization': u'REUTERS',\n",
        "     u'original': u'By REUTERS',\n",
        "     u'person': []},\n",
        "    u'document_type': u'article',\n",
        "    u'headline': {u'main': u'Latvia Takes EU Reins Focused on Growth Plan, Border Defense',\n",
        "     u'print_headline': u'Latvia Takes EU Reins Focused on Growth Plan, Border Defense'},\n",
        "    u'keywords': [],\n",
        "    u'lead_paragraph': u\"Latvia took over the six-month rotating presidency of the European Union on Thursday, pledging to launch a 315 billion euro ($381 billion) investment plan for the bloc and hoping to start a review of Europe's border defense.\",\n",
        "    u'multimedia': [],\n",
        "    u'news_desk': u'None',\n",
        "    u'print_page': None,\n",
        "    u'pub_date': u'2015-01-01T09:21:27Z',\n",
        "    u'section_name': u'World',\n",
        "    u'snippet': u\"Latvia took over the six-month rotating presidency of the European Union on Thursday, pledging to launch a 315 billion euro ($381 billion) investment plan for the bloc and hoping to start a review of Europe's border defense.\",\n",
        "    u'source': u'Reuters',\n",
        "    u'subsection_name': u'Europe',\n",
        "    u'type_of_material': u'News',\n",
        "    u'web_url': u'http://www.nytimes.com/reuters/2015/01/01/world/europe/01reuters-eu-latvia.html',\n",
        "    u'word_count': u'286'},\n",
        "   {u'_id': u'54a5758f38f0d83a07dc7d93',\n",
        "    u'abstract': None,\n",
        "    u'blog': [],\n",
        "    u'byline': {u'organization': u'THE ASSOCIATED PRESS',\n",
        "     u'original': u'By THE ASSOCIATED PRESS',\n",
        "     u'person': []},\n",
        "    u'document_type': u'article',\n",
        "    u'headline': {u'main': u'Troubled EU Hoping the Only Way Is Up in 2015',\n",
        "     u'print_headline': u'Troubled EU Hoping the Only Way Is Up in 2015'},\n",
        "    u'keywords': [],\n",
        "    u'lead_paragraph': u'Beset by critics and buffeted by economic woes, European Union chiefs might have been forgiven for thinking that at least Pope Francis would apply some balm for the New Year in his address to the EU parliament.',\n",
        "    u'multimedia': [],\n",
        "    u'news_desk': u'None',\n",
        "    u'print_page': None,\n",
        "    u'pub_date': u'2015-01-01T11:26:15Z',\n",
        "    u'section_name': u'Business Day',\n",
        "    u'snippet': u'Beset by critics and buffeted by economic woes, European Union chiefs might have been forgiven for thinking that at least Pope Francis would apply some balm for the New Year in his address to the EU parliament.',\n",
        "    u'source': u'AP',\n",
        "    u'subsection_name': None,\n",
        "    u'type_of_material': u'News',\n",
        "    u'web_url': u'http://www.nytimes.com/aponline/2015/01/01/business/ap-eu-europes-new-year.html',\n",
        "    u'word_count': u'694'},\n",
        "   {u'_id': u'54a57bad38f0d83a07dc7ef1',\n",
        "    u'abstract': None,\n",
        "    u'blog': [],\n",
        "    u'byline': {u'original': u'PBS Home Video',\n",
        "     u'person': [{u'firstname': u'Pbs',\n",
        "       u'lastname': u'Video',\n",
        "       u'middlename': u'Home',\n",
        "       u'organization': u'',\n",
        "       u'rank': 1,\n",
        "       u'role': u'reported'}]},\n",
        "    u'document_type': u'multimedia',\n",
        "    u'headline': {u'main': u\"The English Surgeon: One Doctor's Personal Mission To Save Lives In The Ukraine\"},\n",
        "    u'keywords': [],\n",
        "    u'lead_paragraph': u'',\n",
        "    u'multimedia': [{u'height': 126,\n",
        "      u'legacy': {u'wide': u'images/2014/02/03/movies/video-the-english-surgeon-one-doctors-personal-mission-to-save-lives-i/video-the-english-surgeon-one-doctors-personal-mission-to-save-lives-i-thumbWide.jpg',\n",
        "       u'wideheight': u'126',\n",
        "       u'widewidth': u'190'},\n",
        "      u'subtype': u'wide',\n",
        "      u'type': u'image',\n",
        "      u'url': u'images/2014/02/03/movies/video-the-english-surgeon-one-doctors-personal-mission-to-save-lives-i/video-the-english-surgeon-one-doctors-personal-mission-to-save-lives-i-thumbWide.jpg',\n",
        "      u'width': 190},\n",
        "     {u'height': 338,\n",
        "      u'legacy': {u'xlarge': u'images/2014/02/03/movies/video-the-english-surgeon-one-doctors-personal-mission-to-save-lives-i/video-the-english-surgeon-one-doctors-personal-mission-to-save-lives-i-articleLarge.jpg',\n",
        "       u'xlargeheight': u'338',\n",
        "       u'xlargewidth': u'600'},\n",
        "      u'subtype': u'xlarge',\n",
        "      u'type': u'image',\n",
        "      u'url': u'images/2014/02/03/movies/video-the-english-surgeon-one-doctors-personal-mission-to-save-lives-i/video-the-english-surgeon-one-doctors-personal-mission-to-save-lives-i-articleLarge.jpg',\n",
        "      u'width': 600},\n",
        "     {u'height': 75,\n",
        "      u'legacy': {u'thumbnail': u'images/2014/02/03/movies/video-the-english-surgeon-one-doctors-personal-mission-to-save-lives-i/video-the-english-surgeon-one-doctors-personal-mission-to-save-lives-i-thumbStandard.jpg',\n",
        "       u'thumbnailheight': u'75',\n",
        "       u'thumbnailwidth': u'75'},\n",
        "      u'subtype': u'thumbnail',\n",
        "      u'type': u'image',\n",
        "      u'url': u'images/2014/02/03/movies/video-the-english-surgeon-one-doctors-personal-mission-to-save-lives-i/video-the-english-surgeon-one-doctors-personal-mission-to-save-lives-i-thumbStandard.jpg',\n",
        "      u'width': 75}],\n",
        "    u'news_desk': u'Movies',\n",
        "    u'print_page': None,\n",
        "    u'pub_date': u'2015-01-01T11:53:55Z',\n",
        "    u'section_name': u'Movies',\n",
        "    u'snippet': u'',\n",
        "    u'source': u'Internet Video Archive',\n",
        "    u'subsection_name': None,\n",
        "    u'type_of_material': u'Video',\n",
        "    u'web_url': u'http://www.nytimes.com/video/movies/100000003386534/the-english-surgeon-one-doctors-personal-mission-to-save-lives-i.html',\n",
        "    u'word_count': u'0'}],\n",
        "  u'meta': {u'hits': 4170, u'offset': 0, u'time': 87}},\n",
        " u'status': u'OK'}"
       ]
      }
     ],
     "prompt_number": 6
    },
    {
     "cell_type": "code",
     "collapsed": false,
     "input": [
      "json = r.json()\n"
     ],
     "language": "python",
     "metadata": {},
     "outputs": [],
     "prompt_number": 7
    },
    {
     "cell_type": "code",
     "collapsed": false,
     "input": [
      "json.keys()"
     ],
     "language": "python",
     "metadata": {},
     "outputs": [
      {
       "metadata": {},
       "output_type": "pyout",
       "prompt_number": 8,
       "text": [
        "[u'status', u'response', u'copyright']"
       ]
      }
     ],
     "prompt_number": 8
    },
    {
     "cell_type": "code",
     "collapsed": false,
     "input": [
      "\n",
      "json.keys()"
     ],
     "language": "python",
     "metadata": {
      "slideshow": {
       "slide_type": "slide"
      }
     },
     "outputs": [
      {
       "metadata": {},
       "output_type": "pyout",
       "prompt_number": 9,
       "text": [
        "[u'status', u'response', u'copyright']"
       ]
      }
     ],
     "prompt_number": 9
    },
    {
     "cell_type": "code",
     "collapsed": false,
     "input": [
      "json['status']"
     ],
     "language": "python",
     "metadata": {
      "slideshow": {
       "slide_type": "fragment"
      }
     },
     "outputs": [
      {
       "metadata": {},
       "output_type": "pyout",
       "prompt_number": 10,
       "text": [
        "u'OK'"
       ]
      }
     ],
     "prompt_number": 10
    },
    {
     "cell_type": "markdown",
     "metadata": {
      "slideshow": {
       "slide_type": "fragment"
      }
     },
     "source": [
      "Output from `json['response']` ommitted because it was really long."
     ]
    },
    {
     "cell_type": "code",
     "collapsed": false,
     "input": [
      "json['response']['docs']"
     ],
     "language": "python",
     "metadata": {
      "slideshow": {
       "slide_type": "fragment"
      }
     },
     "outputs": [
      {
       "metadata": {},
       "output_type": "pyout",
       "prompt_number": 156,
       "text": [
        "[{u'_id': u'55bba9f338f0d847019fe4d1',\n",
        "  u'abstract': None,\n",
        "  u'blog': [],\n",
        "  u'byline': {u'organization': u'REUTERS',\n",
        "   u'original': u'By REUTERS',\n",
        "   u'person': []},\n",
        "  u'document_type': u'article',\n",
        "  u'headline': {u'main': u\"Ukraine Sees End of Next Week as 'Absolute' Deadline for Debt Deal-Source\",\n",
        "   u'print_headline': u\"Ukraine Sees End of Next Week as 'Absolute' Deadline for Debt Deal-Source\"},\n",
        "  u'keywords': [],\n",
        "  u'lead_paragraph': u'Ukraine sees the end of next week as the \"absolute last deadline\" for a debt restructuring deal with its bondholders, to avoid imposing a moratorium on payments, a source familiar with the situation said on Friday.',\n",
        "  u'multimedia': [],\n",
        "  u'news_desk': u'None',\n",
        "  u'print_page': None,\n",
        "  u'pub_date': u'2015-07-31T12:59:20Z',\n",
        "  u'section_name': u'Business Day',\n",
        "  u'snippet': u'Ukraine sees the end of next week as the \"absolute last deadline\" for a debt restructuring deal with its bondholders, to avoid imposing a moratorium on payments, a source familiar with the situation said on Friday.',\n",
        "  u'source': u'Reuters',\n",
        "  u'subsection_name': None,\n",
        "  u'type_of_material': u'News',\n",
        "  u'web_url': u'http://www.nytimes.com/reuters/2015/07/31/business/31reuters-ukraine-debt-negotiation.html',\n",
        "  u'word_count': u'655'},\n",
        " {u'_id': u'55bb99ec38f0d82ba98b93a3',\n",
        "  u'abstract': None,\n",
        "  u'blog': [],\n",
        "  u'byline': {u'organization': u'THE ASSOCIATED PRESS',\n",
        "   u'original': u'By THE ASSOCIATED PRESS',\n",
        "   u'person': []},\n",
        "  u'document_type': u'article',\n",
        "  u'headline': {u'main': u'Kerry Off to Mideast With Egypt, Iran Deal, Syria on Agenda',\n",
        "   u'print_headline': u'Kerry Off to Mideast With Egypt, Iran Deal, Syria on Agenda'},\n",
        "  u'keywords': [],\n",
        "  u'lead_paragraph': u'Secretary of State John Kerry headed to the Middle East on Friday for security talks in Egypt and discussions in Qatar with Arab foreign ministers whose countries are wary of the nuclear deal struck with Iran.',\n",
        "  u'multimedia': [],\n",
        "  u'news_desk': u'None',\n",
        "  u'print_page': None,\n",
        "  u'pub_date': u'2015-07-31T11:50:43Z',\n",
        "  u'section_name': u'U.S.',\n",
        "  u'snippet': u'Secretary of State John Kerry headed to the Middle East on Friday for security talks in Egypt and discussions in Qatar with Arab foreign ministers whose countries are wary of the nuclear deal struck with Iran.',\n",
        "  u'source': u'AP',\n",
        "  u'subsection_name': u'Politics',\n",
        "  u'type_of_material': u'News',\n",
        "  u'web_url': u'http://www.nytimes.com/aponline/2015/07/31/us/politics/ap-us-kerry-mideast.html',\n",
        "  u'word_count': u'712'},\n",
        " {u'_id': u'55bb909f38f0d82ba98b9381',\n",
        "  u'abstract': None,\n",
        "  u'blog': [],\n",
        "  u'byline': {u'organization': u'REUTERS',\n",
        "   u'original': u'By REUTERS',\n",
        "   u'person': []},\n",
        "  u'document_type': u'article',\n",
        "  u'headline': {u'main': u'Fresh U.S. Sanctions Show Washington Is Deepening Confrontation-Russia',\n",
        "   u'print_headline': u'Fresh U.S. Sanctions Show Washington Is Deepening Confrontation-Russia'},\n",
        "  u'keywords': [],\n",
        "  u'lead_paragraph': u'New U.S. sanctions against Russia show that Washington wants to aggravate tensions with Moscow, Russian Foreign Ministry said in a statement on Friday. ',\n",
        "  u'multimedia': [],\n",
        "  u'news_desk': u'None',\n",
        "  u'print_page': None,\n",
        "  u'pub_date': u'2015-07-31T11:12:35Z',\n",
        "  u'section_name': u'World',\n",
        "  u'snippet': u'New U.S. sanctions against Russia show that Washington wants to aggravate tensions with Moscow, Russian Foreign Ministry said in a statement on Friday.',\n",
        "  u'source': u'Reuters',\n",
        "  u'subsection_name': u'Europe',\n",
        "  u'type_of_material': u'News',\n",
        "  u'web_url': u'http://www.nytimes.com/reuters/2015/07/31/world/europe/31reuters-ukraine-crisis-russia-usa.html',\n",
        "  u'word_count': u'107'},\n",
        " {u'_id': u'55bb5b4138f0d82ba98b92c0',\n",
        "  u'abstract': None,\n",
        "  u'blog': [],\n",
        "  u'byline': {u'organization': u'THE ASSOCIATED PRESS',\n",
        "   u'original': u'By THE ASSOCIATED PRESS',\n",
        "   u'person': []},\n",
        "  u'document_type': u'article',\n",
        "  u'headline': {u'main': u'Austria Turns Back US Troops Over Arms in Luggage',\n",
        "   u'print_headline': u'Austria Turns Back US Troops Over Arms in Luggage'},\n",
        "  u'keywords': [],\n",
        "  u'lead_paragraph': u'Austrian officials say legal authorities recently turned back nine U.S. soldiers en route to Ukraine from Washington after finding weapons in their luggage without the proper permits to transport them through Austria.',\n",
        "  u'multimedia': [],\n",
        "  u'news_desk': u'None',\n",
        "  u'print_page': None,\n",
        "  u'pub_date': u'2015-07-31T07:23:59Z',\n",
        "  u'section_name': u'World',\n",
        "  u'snippet': u'Austrian officials say legal authorities recently turned back nine U.S. soldiers en route to Ukraine from Washington after finding weapons in their luggage without the proper permits to transport them through Austria.',\n",
        "  u'source': u'AP',\n",
        "  u'subsection_name': u'Europe',\n",
        "  u'type_of_material': u'News',\n",
        "  u'web_url': u'http://www.nytimes.com/aponline/2015/07/31/world/europe/ap-eu-austria-us-soldiers-.html',\n",
        "  u'word_count': u'107'},\n",
        " {u'_id': u'55bb462338f0d82ba98b9277',\n",
        "  u'abstract': None,\n",
        "  u'blog': [],\n",
        "  u'byline': {u'organization': u'THE ASSOCIATED PRESS',\n",
        "   u'original': u'By THE ASSOCIATED PRESS',\n",
        "   u'person': []},\n",
        "  u'document_type': u'article',\n",
        "  u'headline': {u'main': u'Litvinenko Widow Accuses Putin of Ordering Husband Killing',\n",
        "   u'print_headline': u'Litvinenko Widow Accuses Putin of Ordering Husband Killing'},\n",
        "  u'keywords': [],\n",
        "  u'lead_paragraph': u'Nine years after former KGB agent Alexander Litvinenko drank radioactive tea at a London hotel, an inquiry into his death ended Friday with his widow claiming President Vladimir Putin ordered the killing &#8212; and Moscow accusing Britain of politicizing the probe.',\n",
        "  u'multimedia': [],\n",
        "  u'news_desk': u'None',\n",
        "  u'print_page': None,\n",
        "  u'pub_date': u'2015-07-31T05:52:37Z',\n",
        "  u'section_name': u'World',\n",
        "  u'snippet': u'Nine years after former KGB agent Alexander Litvinenko drank radioactive tea at a London hotel, an inquiry into his death ended Friday with his widow claiming President Vladimir Putin ordered the killing &#8212; and Moscow accusing Britain of...',\n",
        "  u'source': u'AP',\n",
        "  u'subsection_name': u'Europe',\n",
        "  u'type_of_material': u'News',\n",
        "  u'web_url': u'http://www.nytimes.com/aponline/2015/07/31/world/europe/ap-eu-britain-poisoned-spy.html',\n",
        "  u'word_count': u'469'},\n",
        " {u'_id': u'55bb2f9938f0d82ba98b9237',\n",
        "  u'abstract': None,\n",
        "  u'blog': [],\n",
        "  u'byline': {u'organization': u'REUTERS',\n",
        "   u'original': u'By REUTERS',\n",
        "   u'person': []},\n",
        "  u'document_type': u'article',\n",
        "  u'headline': {u'main': u'France, Russia Reach Mistral Compensation Deal: RIA',\n",
        "   u'print_headline': u'France, Russia Reach Mistral Compensation Deal: RIA'},\n",
        "  u'keywords': [],\n",
        "  u'lead_paragraph': u'France and Russia have reached a compensation deal for the cancellation of the delivery of two French-made Mistral helicopter carriers, according to Russian media reports.',\n",
        "  u'multimedia': [],\n",
        "  u'news_desk': u'None',\n",
        "  u'print_page': None,\n",
        "  u'pub_date': u'2015-07-31T04:17:01Z',\n",
        "  u'section_name': u'World',\n",
        "  u'snippet': u'France and Russia have reached a compensation deal for the cancellation of the delivery of two French-made Mistral helicopter carriers, according to Russian media reports.',\n",
        "  u'source': u'Reuters',\n",
        "  u'subsection_name': u'Europe',\n",
        "  u'type_of_material': u'News',\n",
        "  u'web_url': u'http://www.nytimes.com/reuters/2015/07/31/world/europe/31reuters-russia-france-mistrals.html',\n",
        "  u'word_count': u'180'},\n",
        " {u'_id': u'55bab2ae38f0d82ba98b912c',\n",
        "  u'abstract': None,\n",
        "  u'blog': [],\n",
        "  u'byline': {u'contributor': u'Sophia Kishkovsky and Nikolay Khalip contributed reporting.',\n",
        "   u'original': u'By SAM ROBERTS',\n",
        "   u'person': [{u'firstname': u'Sam',\n",
        "     u'lastname': u'ROBERTS',\n",
        "     u'organization': u'',\n",
        "     u'rank': 1,\n",
        "     u'role': u'reported'}]},\n",
        "  u'document_type': u'article',\n",
        "  u'headline': {u'main': u'Vasily Pichul, Director, Dies at 54; Skewered Soviet Life in \\u2018Little Vera\\u2019',\n",
        "   u'print_headline': u'Vasily Pichul, 54, Director of &#8216;Little Vera&#8217; '},\n",
        "  u'keywords': [{u'is_major': u'Y',\n",
        "    u'name': u'subject',\n",
        "    u'rank': u'1',\n",
        "    u'value': u'Deaths (Obituaries)'},\n",
        "   {u'is_major': u'N',\n",
        "    u'name': u'subject',\n",
        "    u'rank': u'2',\n",
        "    u'value': u'Movies'},\n",
        "   {u'is_major': u'N',\n",
        "    u'name': u'glocations',\n",
        "    u'rank': u'3',\n",
        "    u'value': u'USSR (Former Soviet Union)'},\n",
        "   {u'is_major': u'N',\n",
        "    u'name': u'subject',\n",
        "    u'rank': u'4',\n",
        "    u'value': u'Cold War Era'},\n",
        "   {u'is_major': u'N',\n",
        "    u'name': u'glocations',\n",
        "    u'rank': u'5',\n",
        "    u'value': u'Russia'},\n",
        "   {u'is_major': u'N',\n",
        "    u'name': u'persons',\n",
        "    u'rank': u'6',\n",
        "    u'value': u'Pichul, Vasily (1961-2015)'}],\n",
        "  u'lead_paragraph': u'Mr. Pichul\\u2019s 1988 film, written by his wife, captured international attention.',\n",
        "  u'multimedia': [{u'height': 126,\n",
        "    u'legacy': {u'wide': u'images/2015/07/31/arts/31pichul-obit/31pichul-obit-thumbWide-v2.jpg',\n",
        "     u'wideheight': u'126',\n",
        "     u'widewidth': u'190'},\n",
        "    u'subtype': u'wide',\n",
        "    u'type': u'image',\n",
        "    u'url': u'images/2015/07/31/arts/31pichul-obit/31pichul-obit-thumbWide-v2.jpg',\n",
        "    u'width': 190},\n",
        "   {u'height': 550,\n",
        "    u'legacy': {u'xlarge': u'images/2015/07/31/arts/31pichul-obit/31pichul-obit-articleLarge-v2.jpg',\n",
        "     u'xlargeheight': u'550',\n",
        "     u'xlargewidth': u'600'},\n",
        "    u'subtype': u'xlarge',\n",
        "    u'type': u'image',\n",
        "    u'url': u'images/2015/07/31/arts/31pichul-obit/31pichul-obit-articleLarge-v2.jpg',\n",
        "    u'width': 600},\n",
        "   {u'height': 75,\n",
        "    u'legacy': {u'thumbnail': u'images/2015/07/31/arts/31pichul-obit/31pichul-obit-thumbStandard-v2.jpg',\n",
        "     u'thumbnailheight': u'75',\n",
        "     u'thumbnailwidth': u'75'},\n",
        "    u'subtype': u'thumbnail',\n",
        "    u'type': u'image',\n",
        "    u'url': u'images/2015/07/31/arts/31pichul-obit/31pichul-obit-thumbStandard-v2.jpg',\n",
        "    u'width': 75}],\n",
        "  u'news_desk': u'Culture',\n",
        "  u'print_page': u'23',\n",
        "  u'pub_date': u'2015-07-31T00:00:00Z',\n",
        "  u'section_name': u'Arts',\n",
        "  u'snippet': u'Mr. Pichul\\u2019s 1988 film, written by his wife, captured international attention.',\n",
        "  u'source': u'The New York Times',\n",
        "  u'subsection_name': u'International Arts',\n",
        "  u'type_of_material': u'Obituary',\n",
        "  u'web_url': u'http://www.nytimes.com/2015/07/31/arts/international/vasily-pichul-director-of-little-vera-dies-at-54.html',\n",
        "  u'word_count': u'622'},\n",
        " {u'_id': u'55ba856d38f0d82ba98b908e',\n",
        "  u'abstract': u'Obama administration identifies 26 additional people and institutions, eight of which are linked to Gennady Timchenko, billionaire Russian businessman who is known to have ties to President Vladimir V Putin, that will be subject to economic sanctions as part of effort to maintain pressure on Russian government over its support of insurgents fighting in Ukraine.',\n",
        "  u'blog': [],\n",
        "  u'byline': {u'original': u'By MICHAEL D. SHEAR',\n",
        "   u'person': [{u'firstname': u'Michael',\n",
        "     u'organization': u'',\n",
        "     u'rank': 1,\n",
        "     u'role': u'reported'}]},\n",
        "  u'document_type': u'article',\n",
        "  u'headline': {u'main': u'U.S. Names New Targets of Sanctions Over Ukraine',\n",
        "   u'print_headline': u'U.S. Designates New Targets for Sanctions Tied to Ukraine'},\n",
        "  u'keywords': [{u'is_major': u'Y',\n",
        "    u'name': u'glocations',\n",
        "    u'rank': u'1',\n",
        "    u'value': u'Russia'},\n",
        "   {u'is_major': u'Y',\n",
        "    u'name': u'glocations',\n",
        "    u'rank': u'2',\n",
        "    u'value': u'Ukraine'},\n",
        "   {u'is_major': u'N',\n",
        "    u'name': u'persons',\n",
        "    u'rank': u'3',\n",
        "    u'value': u'Timchenko, Gennady N'},\n",
        "   {u'is_major': u'N',\n",
        "    u'name': u'persons',\n",
        "    u'rank': u'4',\n",
        "    u'value': u'Putin, Vladimir V'},\n",
        "   {u'is_major': u'N',\n",
        "    u'name': u'subject',\n",
        "    u'rank': u'5',\n",
        "    u'value': u'Embargoes and Sanctions'},\n",
        "   {u'is_major': u'N',\n",
        "    u'name': u'persons',\n",
        "    u'rank': u'6',\n",
        "    u'value': u'Yanukovych, Viktor F'},\n",
        "   {u'is_major': u'N',\n",
        "    u'name': u'organizations',\n",
        "    u'rank': u'7',\n",
        "    u'value': u'Office of Foreign Assets Control (United States Treasury)'},\n",
        "   {u'is_major': u'N',\n",
        "    u'name': u'persons',\n",
        "    u'rank': u'8',\n",
        "    u'value': u'Obama, Barack'}],\n",
        "  u'lead_paragraph': u'Eight of 26 new targets are linked to Gennady Timchenko, a billionaire Russian businessman who is known to have ties to President Vladimir V. Putin.',\n",
        "  u'multimedia': [],\n",
        "  u'news_desk': u'Foreign',\n",
        "  u'print_page': u'6',\n",
        "  u'pub_date': u'2015-07-31T00:00:00Z',\n",
        "  u'section_name': u'World',\n",
        "  u'snippet': u'Eight of 26 new targets are linked to Gennady Timchenko, a billionaire Russian businessman who is known to have ties to President Vladimir V. Putin.',\n",
        "  u'source': u'The New York Times',\n",
        "  u'subsection_name': u'Europe',\n",
        "  u'type_of_material': u'News',\n",
        "  u'web_url': u'http://www.nytimes.com/2015/07/31/world/europe/us-names-new-targets-of-sanctions-over-ukraine.html',\n",
        "  u'word_count': u'354'},\n",
        " {u'_id': u'55ba979838f0d82ba98b90dd',\n",
        "  u'abstract': u'Photos from Pakistan, Israel, Nepal and India.',\n",
        "  u'blog': [],\n",
        "  u'byline': {u'organization': u'The New York Times',\n",
        "   u'original': u'By THE NEW YORK TIMES',\n",
        "   u'person': []},\n",
        "  u'document_type': u'blogpost',\n",
        "  u'headline': {u'kicker': u'Lens',\n",
        "   u'main': u'July 30, 2015 \\u2014 Pictures of the Day'},\n",
        "  u'keywords': [{u'name': u'glocations', u'rank': u'1', u'value': u'Israel'},\n",
        "   {u'name': u'glocations', u'rank': u'2', u'value': u'Pakistan'},\n",
        "   {u'name': u'organizations', u'rank': u'1', u'value': u'Facebook Inc'},\n",
        "   {u'name': u'organizations', u'rank': u'2', u'value': u'Twitter'},\n",
        "   {u'name': u'subject', u'rank': u'1', u'value': u'India'},\n",
        "   {u'name': u'subject', u'rank': u'2', u'value': u'Landslides and Mudslides'},\n",
        "   {u'name': u'subject', u'rank': u'3', u'value': u'Monsoons'},\n",
        "   {u'name': u'subject', u'rank': u'4', u'value': u'Photography'},\n",
        "   {u'name': u'subject',\n",
        "    u'rank': u'5',\n",
        "    u'value': u'Police Brutality, Misconduct and Shootings'},\n",
        "   {u'name': u'subject', u'rank': u'6', u'value': u'Social Media'},\n",
        "   {u'name': u'subject', u'rank': u'7', u'value': u'South Korea'},\n",
        "   {u'name': u'subject', u'rank': u'8', u'value': u'Ukraine'},\n",
        "   {u'name': u'subject', u'rank': u'9', u'value': u'United States'}],\n",
        "  u'lead_paragraph': None,\n",
        "  u'multimedia': [],\n",
        "  u'news_desk': None,\n",
        "  u'print_page': None,\n",
        "  u'pub_date': u'2015-07-30T17:29:09Z',\n",
        "  u'section_name': u'Multimedia',\n",
        "  u'snippet': u'Photos from Pakistan, Israel, Nepal and India.',\n",
        "  u'source': u'The New York Times',\n",
        "  u'subsection_name': None,\n",
        "  u'type_of_material': u'Blog',\n",
        "  u'web_url': u'http://lens.blogs.nytimes.com/2015/07/30/july-30-2015-pictures-of-the-day/',\n",
        "  u'word_count': u'13'},\n",
        " {u'_id': u'55ba8cba38f0d82ba98b90af',\n",
        "  u'abstract': None,\n",
        "  u'blog': [],\n",
        "  u'byline': {u'organization': u'THE ASSOCIATED PRESS',\n",
        "   u'original': u'By THE ASSOCIATED PRESS',\n",
        "   u'person': []},\n",
        "  u'document_type': u'article',\n",
        "  u'headline': {u'main': u'Ukraine Will Try Again for Downed Plane Tribunal',\n",
        "   u'print_headline': u'Ukraine Will Try Again for Downed Plane Tribunal'},\n",
        "  u'keywords': [],\n",
        "  u'lead_paragraph': u\"Ukraine's foreign minister said Thursday that the five countries investigating the downing of a Malaysia Airlines plane over Ukraine a year ago will try again to get U.N. Security Council approval for an international tribunal to prosecute the alleged perpetrators.\",\n",
        "  u'multimedia': [],\n",
        "  u'news_desk': u'None',\n",
        "  u'print_page': None,\n",
        "  u'pub_date': u'2015-07-30T16:38:50Z',\n",
        "  u'section_name': u'World',\n",
        "  u'snippet': u\"Ukraine's foreign minister said Thursday that the five countries investigating the downing of a Malaysia Airlines plane over Ukraine a year ago will try again to get U.N. Security Council approval for an international tribunal to prosecute the...\",\n",
        "  u'source': u'AP',\n",
        "  u'subsection_name': u'Europe',\n",
        "  u'type_of_material': u'News',\n",
        "  u'web_url': u'http://www.nytimes.com/aponline/2015/07/30/world/europe/ap-un-united-nations-ukraine-mh17.html',\n",
        "  u'word_count': u'395'}]"
       ]
      }
     ],
     "prompt_number": 156
    },
    {
     "cell_type": "code",
     "collapsed": false,
     "input": [
      "print json['response']['meta']['hits']\n",
      "print json['response']['docs'][0]['lead_paragraph']"
     ],
     "language": "python",
     "metadata": {
      "slideshow": {
       "slide_type": "fragment"
      }
     },
     "outputs": [
      {
       "output_type": "stream",
       "stream": "stdout",
       "text": [
        "22992\n",
        "Ukraine sees the end of next week as the \"absolute last deadline\" for a debt restructuring deal with its bondholders, to avoid imposing a moratorium on payments, a source familiar with the situation said on Friday.\n"
       ]
      }
     ],
     "prompt_number": 158
    },
    {
     "cell_type": "code",
     "collapsed": false,
     "input": [
      "from time import sleep\n",
      "\n",
      "base_url = 'http://api.nytimes.com/svc/search/v2/articlesearch.json?'\n",
      "\n",
      "years = [2003, 2004, 2005, 2006, 2007, 2008, 2009, 2010, 2011, 2012, 2013, 2014, 2015]\n",
      "\n",
      "for year in years:\n",
      "    year_string = str(year)\n",
      "    payload = { 'q'         : 'Ukraine', \n",
      "                'begin_date':  year_string + '0101',\n",
      "                'end_date'  :  year_string + '1231',\n",
      "                'api-key'   :  my_times_api_key,\n",
      "                'sort'      : 'newest' ,\n",
      "                'page'      :  0}\n",
      "    \n",
      "    r = requests.get(base_url, params = payload)\n",
      "    json = r.json()\n",
      "    count  = json['response']['meta']['hits']\n",
      "    print year, count\n",
      "    sleep(.1)"
     ],
     "language": "python",
     "metadata": {
      "slideshow": {
       "slide_type": "slide"
      }
     },
     "outputs": [
      {
       "output_type": "stream",
       "stream": "stdout",
       "text": [
        "2003 225\n",
        "2004"
       ]
      },
      {
       "output_type": "stream",
       "stream": "stdout",
       "text": [
        " 368\n",
        "2005"
       ]
      },
      {
       "output_type": "stream",
       "stream": "stdout",
       "text": [
        " 410\n",
        "2006"
       ]
      },
      {
       "output_type": "stream",
       "stream": "stdout",
       "text": [
        " 595\n",
        "2007"
       ]
      },
      {
       "output_type": "stream",
       "stream": "stdout",
       "text": [
        " 374\n",
        "2008"
       ]
      },
      {
       "output_type": "stream",
       "stream": "stdout",
       "text": [
        " 556\n",
        "2009"
       ]
      },
      {
       "output_type": "stream",
       "stream": "stdout",
       "text": [
        " 602\n",
        "2010"
       ]
      },
      {
       "output_type": "stream",
       "stream": "stdout",
       "text": [
        " 464\n",
        "2011"
       ]
      },
      {
       "output_type": "stream",
       "stream": "stdout",
       "text": [
        " 546\n",
        "2012"
       ]
      },
      {
       "output_type": "stream",
       "stream": "stdout",
       "text": [
        " 520\n",
        "2013"
       ]
      },
      {
       "output_type": "stream",
       "stream": "stdout",
       "text": [
        " 591\n",
        "2014"
       ]
      },
      {
       "output_type": "stream",
       "stream": "stdout",
       "text": [
        " 13578\n",
        "2015"
       ]
      },
      {
       "output_type": "stream",
       "stream": "stdout",
       "text": [
        " 4170\n"
       ]
      }
     ],
     "prompt_number": 13
    },
    {
     "cell_type": "code",
     "collapsed": false,
     "input": [
      "from time import sleep\n",
      "\n",
      "base_url = 'http://api.nytimes.com/svc/search/v2/articlesearch.json?'\n",
      "\n",
      "payload = { 'q'         : 'Ukraine', \n",
      "            'api-key'   :  my_times_api_key,\n",
      "            'sort'      : 'newest' ,\n",
      "            'page'      :  0}\n",
      "    \n",
      "years = [2003, 2004, 2005, 2006, 2007, 2008, 2009, 2010, 2011, 2012, 2013, 2014, 2015]\n",
      "counts = []\n",
      "for year in years:\n",
      " \n",
      "    \n",
      "    year_string = str(year)\n",
      "    payload['begin_date'] = year_string + '0101'\n",
      "    payload['end_date']   = year_string + '1231'\n",
      "    r = requests.get(base_url, params = payload)\n",
      "    json = r.json()\n",
      "    count  = json['response']['meta']['hits']\n",
      "    counts.append(count)\n",
      "    sleep(.1)   "
     ],
     "language": "python",
     "metadata": {
      "slideshow": {
       "slide_type": "skip"
      }
     },
     "outputs": [],
     "prompt_number": 14
    },
    {
     "cell_type": "markdown",
     "metadata": {
      "slideshow": {
       "slide_type": "slide"
      }
     },
     "source": [
      "This can be plotted in Python."
     ]
    },
    {
     "cell_type": "code",
     "collapsed": false,
     "input": [
      "%pylab inline\n",
      "import matplotlib.pyplot as plt\n",
      "\n",
      "plt.scatter(years,counts)\n",
      "plt.ticklabel_format(useOffset=False)"
     ],
     "language": "python",
     "metadata": {
      "slideshow": {
       "slide_type": "fragment"
      }
     },
     "outputs": [
      {
       "output_type": "stream",
       "stream": "stdout",
       "text": [
        "Populating the interactive namespace from numpy and matplotlib\n"
       ]
      },
      {
       "metadata": {},
       "output_type": "display_data",
       "png": "[encoded data removed]",
       "text": [
        "<matplotlib.figure.Figure at 0x10881cc50>"
       ]
      }
     ],
     "prompt_number": 15
    },
    {
     "cell_type": "markdown",
     "metadata": {
      "slideshow": {
       "slide_type": "slide"
      }
     },
     "source": [
      "Your turn. Modify the script below to output a csv with the monthly total of Ukraine articles. For an extra challenge, add an additional column with the count of the number of \"unemployment\" articles."
     ]
    },
    {
     "cell_type": "code",
     "collapsed": false,
     "input": [
      "import csv\n",
      "c = csv.writer(open(\"table_UA_unemployment.csv\", \"wb\"))\n",
      "base_url = 'http://api.nytimes.com/svc/search/v2/articlesearch.json?'\n",
      "c.writerow([\"Year\",\"Month\",\"# of articles about UA\",\"# of articles about unemployment\"])\n",
      "for year in years:\n",
      "    year_string = str(year)\n",
      "    for month in range(1,10):\n",
      "        payload = { 'q'         : 'Ukraine', \n",
      "                    'begin_date':  year_string + '0' + str(month) + '01',\n",
      "                    'end_date'  :  year_string + '0' + str(month) + '31',\n",
      "                    'api-key'   :  my_times_api_key,\n",
      "                    'sort'      : 'newest' ,\n",
      "                    'page'      :  0}\n",
      "    \n",
      "        r = requests.get(base_url, params = payload)\n",
      "        json = r.json()\n",
      "        count_ua  = json['response']['meta']['hits']\n",
      "        payload = { 'q'         : 'unemployment', \n",
      "                    'begin_date':  year_string + '0' + str(month) + '01',\n",
      "                    'end_date'  :  year_string + '0' + str(month) + '31',\n",
      "                    'api-key'   :  my_times_api_key,\n",
      "                    'sort'      : 'newest' ,\n",
      "                    'page'      :  0}\n",
      "    \n",
      "        r = requests.get(base_url, params = payload)\n",
      "        json = r.json()\n",
      "        count  = json['response']['meta']['hits']\n",
      "        c.writerow([year,month,count_ua,count])\n",
      "    for month in range(10,13):\n",
      "        payload = { 'q'         : 'Ukraine', \n",
      "                    'begin_date':  year_string + str(month) + '01',\n",
      "                    'end_date'  :  year_string + str(month) + '31',\n",
      "                    'api-key'   :  my_times_api_key,\n",
      "                    'sort'      : 'newest' ,\n",
      "                    'page'      :  0}\n",
      "    \n",
      "        r = requests.get(base_url, params = payload)\n",
      "        json = r.json()\n",
      "        count_ua  = json['response']['meta']['hits']\n",
      "        payload = { 'q'         : 'unemployment', \n",
      "                    'begin_date':  year_string + str(month) + '01',\n",
      "                    'end_date'  :  year_string + str(month) + '31',\n",
      "                    'api-key'   :  my_times_api_key,\n",
      "                    'sort'      : 'newest' ,\n",
      "                    'page'      :  0}\n",
      "    \n",
      "        r = requests.get(base_url, params = payload)\n",
      "        json = r.json()\n",
      "        count  = json['response']['meta']['hits']\n",
      "        c.writerow([year,month,count_ua,count])"
     ],
     "language": "python",
     "metadata": {},
     "outputs": [],
     "prompt_number": 33
    },
    {
     "cell_type": "heading",
     "level": 1,
     "metadata": {},
     "source": [
      "Monthly total of Ukraine articles and unemplyment articles. 2003-2015"
     ]
    },
    {
     "cell_type": "code",
     "collapsed": false,
     "input": [
      "import pandas as pd\n",
      "df = pd.read_csv(\"table_UA_unemployment.csv\")\n",
      "df"
     ],
     "language": "python",
     "metadata": {},
     "outputs": [
      {
       "html": [
        "<div style=\"max-height:1000px;max-width:1500px;overflow:auto;\">\n",
        "<table border=\"1\" class=\"dataframe\">\n",
        "  <thead>\n",
        "    <tr style=\"text-align: right;\">\n",
        "      <th></th>\n",
        "      <th>Year</th>\n",
        "      <th>Month</th>\n",
        "      <th># of articles about UA</th>\n",
        "      <th># of articles about unemployment</th>\n",
        "    </tr>\n",
        "  </thead>\n",
        "  <tbody>\n",
        "    <tr>\n",
        "      <th>0  </th>\n",
        "      <td> 2003</td>\n",
        "      <td>  1</td>\n",
        "      <td>   29</td>\n",
        "      <td> 132</td>\n",
        "    </tr>\n",
        "    <tr>\n",
        "      <th>1  </th>\n",
        "      <td> 2003</td>\n",
        "      <td>  2</td>\n",
        "      <td>   16</td>\n",
        "      <td> 105</td>\n",
        "    </tr>\n",
        "    <tr>\n",
        "      <th>2  </th>\n",
        "      <td> 2003</td>\n",
        "      <td>  3</td>\n",
        "      <td>   20</td>\n",
        "      <td>  99</td>\n",
        "    </tr>\n",
        "    <tr>\n",
        "      <th>3  </th>\n",
        "      <td> 2003</td>\n",
        "      <td>  4</td>\n",
        "      <td>   11</td>\n",
        "      <td> 106</td>\n",
        "    </tr>\n",
        "    <tr>\n",
        "      <th>4  </th>\n",
        "      <td> 2003</td>\n",
        "      <td>  5</td>\n",
        "      <td>   20</td>\n",
        "      <td> 143</td>\n",
        "    </tr>\n",
        "    <tr>\n",
        "      <th>5  </th>\n",
        "      <td> 2003</td>\n",
        "      <td>  6</td>\n",
        "      <td>   25</td>\n",
        "      <td> 106</td>\n",
        "    </tr>\n",
        "    <tr>\n",
        "      <th>6  </th>\n",
        "      <td> 2003</td>\n",
        "      <td>  7</td>\n",
        "      <td>   15</td>\n",
        "      <td> 123</td>\n",
        "    </tr>\n",
        "    <tr>\n",
        "      <th>7  </th>\n",
        "      <td> 2003</td>\n",
        "      <td>  8</td>\n",
        "      <td>   24</td>\n",
        "      <td>  95</td>\n",
        "    </tr>\n",
        "    <tr>\n",
        "      <th>8  </th>\n",
        "      <td> 2003</td>\n",
        "      <td>  9</td>\n",
        "      <td>   14</td>\n",
        "      <td> 117</td>\n",
        "    </tr>\n",
        "    <tr>\n",
        "      <th>9  </th>\n",
        "      <td> 2003</td>\n",
        "      <td> 10</td>\n",
        "      <td>   18</td>\n",
        "      <td> 105</td>\n",
        "    </tr>\n",
        "    <tr>\n",
        "      <th>10 </th>\n",
        "      <td> 2003</td>\n",
        "      <td> 11</td>\n",
        "      <td>   15</td>\n",
        "      <td> 105</td>\n",
        "    </tr>\n",
        "    <tr>\n",
        "      <th>11 </th>\n",
        "      <td> 2003</td>\n",
        "      <td> 12</td>\n",
        "      <td>   22</td>\n",
        "      <td>  82</td>\n",
        "    </tr>\n",
        "    <tr>\n",
        "      <th>12 </th>\n",
        "      <td> 2004</td>\n",
        "      <td>  1</td>\n",
        "      <td>   13</td>\n",
        "      <td> 101</td>\n",
        "    </tr>\n",
        "    <tr>\n",
        "      <th>13 </th>\n",
        "      <td> 2004</td>\n",
        "      <td>  2</td>\n",
        "      <td>   24</td>\n",
        "      <td> 102</td>\n",
        "    </tr>\n",
        "    <tr>\n",
        "      <th>14 </th>\n",
        "      <td> 2004</td>\n",
        "      <td>  3</td>\n",
        "      <td>   19</td>\n",
        "      <td>  94</td>\n",
        "    </tr>\n",
        "    <tr>\n",
        "      <th>15 </th>\n",
        "      <td> 2004</td>\n",
        "      <td>  4</td>\n",
        "      <td>   23</td>\n",
        "      <td>  83</td>\n",
        "    </tr>\n",
        "    <tr>\n",
        "      <th>16 </th>\n",
        "      <td> 2004</td>\n",
        "      <td>  5</td>\n",
        "      <td>   18</td>\n",
        "      <td>  82</td>\n",
        "    </tr>\n",
        "    <tr>\n",
        "      <th>17 </th>\n",
        "      <td> 2004</td>\n",
        "      <td>  6</td>\n",
        "      <td>   16</td>\n",
        "      <td>  67</td>\n",
        "    </tr>\n",
        "    <tr>\n",
        "      <th>18 </th>\n",
        "      <td> 2004</td>\n",
        "      <td>  7</td>\n",
        "      <td>   20</td>\n",
        "      <td>  81</td>\n",
        "    </tr>\n",
        "    <tr>\n",
        "      <th>19 </th>\n",
        "      <td> 2004</td>\n",
        "      <td>  8</td>\n",
        "      <td>   38</td>\n",
        "      <td>  89</td>\n",
        "    </tr>\n",
        "    <tr>\n",
        "      <th>20 </th>\n",
        "      <td> 2004</td>\n",
        "      <td>  9</td>\n",
        "      <td>   20</td>\n",
        "      <td>  88</td>\n",
        "    </tr>\n",
        "    <tr>\n",
        "      <th>21 </th>\n",
        "      <td> 2004</td>\n",
        "      <td> 10</td>\n",
        "      <td>   18</td>\n",
        "      <td>  82</td>\n",
        "    </tr>\n",
        "    <tr>\n",
        "      <th>22 </th>\n",
        "      <td> 2004</td>\n",
        "      <td> 11</td>\n",
        "      <td>   70</td>\n",
        "      <td>  46</td>\n",
        "    </tr>\n",
        "    <tr>\n",
        "      <th>23 </th>\n",
        "      <td> 2004</td>\n",
        "      <td> 12</td>\n",
        "      <td>   97</td>\n",
        "      <td>  65</td>\n",
        "    </tr>\n",
        "    <tr>\n",
        "      <th>24 </th>\n",
        "      <td> 2005</td>\n",
        "      <td>  1</td>\n",
        "      <td>   52</td>\n",
        "      <td>  50</td>\n",
        "    </tr>\n",
        "    <tr>\n",
        "      <th>25 </th>\n",
        "      <td> 2005</td>\n",
        "      <td>  2</td>\n",
        "      <td>   34</td>\n",
        "      <td>  59</td>\n",
        "    </tr>\n",
        "    <tr>\n",
        "      <th>26 </th>\n",
        "      <td> 2005</td>\n",
        "      <td>  3</td>\n",
        "      <td>   39</td>\n",
        "      <td>  55</td>\n",
        "    </tr>\n",
        "    <tr>\n",
        "      <th>27 </th>\n",
        "      <td> 2005</td>\n",
        "      <td>  4</td>\n",
        "      <td>   38</td>\n",
        "      <td>  62</td>\n",
        "    </tr>\n",
        "    <tr>\n",
        "      <th>28 </th>\n",
        "      <td> 2005</td>\n",
        "      <td>  5</td>\n",
        "      <td>   32</td>\n",
        "      <td>  64</td>\n",
        "    </tr>\n",
        "    <tr>\n",
        "      <th>29 </th>\n",
        "      <td> 2005</td>\n",
        "      <td>  6</td>\n",
        "      <td>   22</td>\n",
        "      <td>  61</td>\n",
        "    </tr>\n",
        "    <tr>\n",
        "      <th>...</th>\n",
        "      <td>...</td>\n",
        "      <td>...</td>\n",
        "      <td>...</td>\n",
        "      <td>...</td>\n",
        "    </tr>\n",
        "    <tr>\n",
        "      <th>126</th>\n",
        "      <td> 2013</td>\n",
        "      <td>  7</td>\n",
        "      <td>   29</td>\n",
        "      <td> 243</td>\n",
        "    </tr>\n",
        "    <tr>\n",
        "      <th>127</th>\n",
        "      <td> 2013</td>\n",
        "      <td>  8</td>\n",
        "      <td>   85</td>\n",
        "      <td> 495</td>\n",
        "    </tr>\n",
        "    <tr>\n",
        "      <th>128</th>\n",
        "      <td> 2013</td>\n",
        "      <td>  9</td>\n",
        "      <td>  106</td>\n",
        "      <td> 435</td>\n",
        "    </tr>\n",
        "    <tr>\n",
        "      <th>129</th>\n",
        "      <td> 2013</td>\n",
        "      <td> 10</td>\n",
        "      <td>   36</td>\n",
        "      <td> 173</td>\n",
        "    </tr>\n",
        "    <tr>\n",
        "      <th>130</th>\n",
        "      <td> 2013</td>\n",
        "      <td> 11</td>\n",
        "      <td>   50</td>\n",
        "      <td> 178</td>\n",
        "    </tr>\n",
        "    <tr>\n",
        "      <th>131</th>\n",
        "      <td> 2013</td>\n",
        "      <td> 12</td>\n",
        "      <td>  146</td>\n",
        "      <td> 169</td>\n",
        "    </tr>\n",
        "    <tr>\n",
        "      <th>132</th>\n",
        "      <td> 2014</td>\n",
        "      <td>  1</td>\n",
        "      <td>  297</td>\n",
        "      <td> 644</td>\n",
        "    </tr>\n",
        "    <tr>\n",
        "      <th>133</th>\n",
        "      <td> 2014</td>\n",
        "      <td>  2</td>\n",
        "      <td> 1346</td>\n",
        "      <td> 532</td>\n",
        "    </tr>\n",
        "    <tr>\n",
        "      <th>134</th>\n",
        "      <td> 2014</td>\n",
        "      <td>  3</td>\n",
        "      <td> 2392</td>\n",
        "      <td> 498</td>\n",
        "    </tr>\n",
        "    <tr>\n",
        "      <th>135</th>\n",
        "      <td> 2014</td>\n",
        "      <td>  4</td>\n",
        "      <td> 1533</td>\n",
        "      <td> 521</td>\n",
        "    </tr>\n",
        "    <tr>\n",
        "      <th>136</th>\n",
        "      <td> 2014</td>\n",
        "      <td>  5</td>\n",
        "      <td> 1304</td>\n",
        "      <td> 472</td>\n",
        "    </tr>\n",
        "    <tr>\n",
        "      <th>137</th>\n",
        "      <td> 2014</td>\n",
        "      <td>  6</td>\n",
        "      <td>  879</td>\n",
        "      <td> 396</td>\n",
        "    </tr>\n",
        "    <tr>\n",
        "      <th>138</th>\n",
        "      <td> 2014</td>\n",
        "      <td>  7</td>\n",
        "      <td> 1622</td>\n",
        "      <td> 366</td>\n",
        "    </tr>\n",
        "    <tr>\n",
        "      <th>139</th>\n",
        "      <td> 2014</td>\n",
        "      <td>  8</td>\n",
        "      <td> 1394</td>\n",
        "      <td> 335</td>\n",
        "    </tr>\n",
        "    <tr>\n",
        "      <th>140</th>\n",
        "      <td> 2014</td>\n",
        "      <td>  9</td>\n",
        "      <td> 1194</td>\n",
        "      <td> 421</td>\n",
        "    </tr>\n",
        "    <tr>\n",
        "      <th>141</th>\n",
        "      <td> 2014</td>\n",
        "      <td> 10</td>\n",
        "      <td>  691</td>\n",
        "      <td> 454</td>\n",
        "    </tr>\n",
        "    <tr>\n",
        "      <th>142</th>\n",
        "      <td> 2014</td>\n",
        "      <td> 11</td>\n",
        "      <td>  688</td>\n",
        "      <td> 401</td>\n",
        "    </tr>\n",
        "    <tr>\n",
        "      <th>143</th>\n",
        "      <td> 2014</td>\n",
        "      <td> 12</td>\n",
        "      <td>  699</td>\n",
        "      <td> 337</td>\n",
        "    </tr>\n",
        "    <tr>\n",
        "      <th>144</th>\n",
        "      <td> 2015</td>\n",
        "      <td>  1</td>\n",
        "      <td>  583</td>\n",
        "      <td> 429</td>\n",
        "    </tr>\n",
        "    <tr>\n",
        "      <th>145</th>\n",
        "      <td> 2015</td>\n",
        "      <td>  2</td>\n",
        "      <td> 1185</td>\n",
        "      <td> 356</td>\n",
        "    </tr>\n",
        "    <tr>\n",
        "      <th>146</th>\n",
        "      <td> 2015</td>\n",
        "      <td>  3</td>\n",
        "      <td>  730</td>\n",
        "      <td> 392</td>\n",
        "    </tr>\n",
        "    <tr>\n",
        "      <th>147</th>\n",
        "      <td> 2015</td>\n",
        "      <td>  4</td>\n",
        "      <td>  498</td>\n",
        "      <td> 337</td>\n",
        "    </tr>\n",
        "    <tr>\n",
        "      <th>148</th>\n",
        "      <td> 2015</td>\n",
        "      <td>  5</td>\n",
        "      <td>  425</td>\n",
        "      <td> 314</td>\n",
        "    </tr>\n",
        "    <tr>\n",
        "      <th>149</th>\n",
        "      <td> 2015</td>\n",
        "      <td>  6</td>\n",
        "      <td>  519</td>\n",
        "      <td> 313</td>\n",
        "    </tr>\n",
        "    <tr>\n",
        "      <th>150</th>\n",
        "      <td> 2015</td>\n",
        "      <td>  7</td>\n",
        "      <td>  351</td>\n",
        "      <td> 313</td>\n",
        "    </tr>\n",
        "    <tr>\n",
        "      <th>151</th>\n",
        "      <td> 2015</td>\n",
        "      <td>  8</td>\n",
        "      <td>    7</td>\n",
        "      <td>   8</td>\n",
        "    </tr>\n",
        "    <tr>\n",
        "      <th>152</th>\n",
        "      <td> 2015</td>\n",
        "      <td>  9</td>\n",
        "      <td>    0</td>\n",
        "      <td>   0</td>\n",
        "    </tr>\n",
        "    <tr>\n",
        "      <th>153</th>\n",
        "      <td> 2015</td>\n",
        "      <td> 10</td>\n",
        "      <td>    0</td>\n",
        "      <td>   0</td>\n",
        "    </tr>\n",
        "    <tr>\n",
        "      <th>154</th>\n",
        "      <td> 2015</td>\n",
        "      <td> 11</td>\n",
        "      <td>    0</td>\n",
        "      <td>   0</td>\n",
        "    </tr>\n",
        "    <tr>\n",
        "      <th>155</th>\n",
        "      <td> 2015</td>\n",
        "      <td> 12</td>\n",
        "      <td>    0</td>\n",
        "      <td>   0</td>\n",
        "    </tr>\n",
        "  </tbody>\n",
        "</table>\n",
        "<p>156 rows \u00d7 4 columns</p>\n",
        "</div>"
       ],
       "metadata": {},
       "output_type": "pyout",
       "prompt_number": 34,
       "text": [
        "     Year  Month  # of articles about UA  # of articles about unemployment\n",
        "0    2003      1                      29                               132\n",
        "1    2003      2                      16                               105\n",
        "2    2003      3                      20                                99\n",
        "3    2003      4                      11                               106\n",
        "4    2003      5                      20                               143\n",
        "5    2003      6                      25                               106\n",
        "6    2003      7                      15                               123\n",
        "7    2003      8                      24                                95\n",
        "8    2003      9                      14                               117\n",
        "9    2003     10                      18                               105\n",
        "10   2003     11                      15                               105\n",
        "11   2003     12                      22                                82\n",
        "12   2004      1                      13                               101\n",
        "13   2004      2                      24                               102\n",
        "14   2004      3                      19                                94\n",
        "15   2004      4                      23                                83\n",
        "16   2004      5                      18                                82\n",
        "17   2004      6                      16                                67\n",
        "18   2004      7                      20                                81\n",
        "19   2004      8                      38                                89\n",
        "20   2004      9                      20                                88\n",
        "21   2004     10                      18                                82\n",
        "22   2004     11                      70                                46\n",
        "23   2004     12                      97                                65\n",
        "24   2005      1                      52                                50\n",
        "25   2005      2                      34                                59\n",
        "26   2005      3                      39                                55\n",
        "27   2005      4                      38                                62\n",
        "28   2005      5                      32                                64\n",
        "29   2005      6                      22                                61\n",
        "..    ...    ...                     ...                               ...\n",
        "126  2013      7                      29                               243\n",
        "127  2013      8                      85                               495\n",
        "128  2013      9                     106                               435\n",
        "129  2013     10                      36                               173\n",
        "130  2013     11                      50                               178\n",
        "131  2013     12                     146                               169\n",
        "132  2014      1                     297                               644\n",
        "133  2014      2                    1346                               532\n",
        "134  2014      3                    2392                               498\n",
        "135  2014      4                    1533                               521\n",
        "136  2014      5                    1304                               472\n",
        "137  2014      6                     879                               396\n",
        "138  2014      7                    1622                               366\n",
        "139  2014      8                    1394                               335\n",
        "140  2014      9                    1194                               421\n",
        "141  2014     10                     691                               454\n",
        "142  2014     11                     688                               401\n",
        "143  2014     12                     699                               337\n",
        "144  2015      1                     583                               429\n",
        "145  2015      2                    1185                               356\n",
        "146  2015      3                     730                               392\n",
        "147  2015      4                     498                               337\n",
        "148  2015      5                     425                               314\n",
        "149  2015      6                     519                               313\n",
        "150  2015      7                     351                               313\n",
        "151  2015      8                       7                                 8\n",
        "152  2015      9                       0                                 0\n",
        "153  2015     10                       0                                 0\n",
        "154  2015     11                       0                                 0\n",
        "155  2015     12                       0                                 0\n",
        "\n",
        "[156 rows x 4 columns]"
       ]
      }
     ],
     "prompt_number": 34
    },
    {
     "cell_type": "code",
     "collapsed": false,
     "input": [
      "payload = {'q'         : 'Ukraine', \n",
      "           'begin_date': '20030101' ,\n",
      "           'end_date'  : '20150731',\n",
      "           'api-key'   :  my_times_api_key,\n",
      "           'sort'      : 'newest',\n",
      "           'page'      : 1 }\n",
      "\n",
      "base_url = 'http://api.nytimes.com/svc/search/v2/articlesearch.json?'\n",
      "r = requests.get(base_url, params = payload)\n",
      "json = r.json()\n",
      "json.keys()"
     ],
     "language": "python",
     "metadata": {},
     "outputs": [
      {
       "metadata": {},
       "output_type": "pyout",
       "prompt_number": 105,
       "text": [
        "[u'status', u'response', u'copyright']"
       ]
      }
     ],
     "prompt_number": 105
    },
    {
     "cell_type": "code",
     "collapsed": false,
     "input": [
      "num = json['response']['meta']['hits']\n",
      "num = num / 10"
     ],
     "language": "python",
     "metadata": {},
     "outputs": [],
     "prompt_number": 199
    },
    {
     "cell_type": "heading",
     "level": 1,
     "metadata": {},
     "source": [
      "ANALYSIS OF WORDS IN HEADLINES AND LEAD PARAGRAPHS"
     ]
    },
    {
     "cell_type": "heading",
     "level": 3,
     "metadata": {},
     "source": [
      "I`m going to analyse last 1000 articles in NYTimes that were published before 07/31/15."
     ]
    },
    {
     "cell_type": "code",
     "collapsed": false,
     "input": [
      "from copy import deepcopy\n",
      "\n",
      "corr1 = pd.DataFrame(0,index = np.arange(10*min(100,num)) , columns = ['Putin','war','MH17','Russia','soldier'])\n",
      "\n",
      "words_count = pd.DataFrame(0, index = np.arange(10*min(100,num)) , columns = ['# of words'])\n",
      "\n",
      "multimedia_count = 0;\n",
      "\n",
      "words_negative = {'terror':0,\n",
      "                  'mh17':0,\n",
      "                  'putin':0,\n",
      "                  'soldier':0,\n",
      "                  'conflict':0,\n",
      "                  'war':0,\n",
      "                  'kill':0,\n",
      "                  'dead':0,\n",
      "                  'target':0,\n",
      "                  'tribunal':0,\n",
      "                  'sanction':0,\n",
      "                  'battle':0,\n",
      "                  'debt':0,\n",
      "                  'blockade':0,\n",
      "                  'troop':0,\n",
      "                  'weapon':0,\n",
      "                  'protester':0,\n",
      "                  'vandal':0,\n",
      "                  'crime':0,\n",
      "                  'communist':0,\n",
      "                  'missile':0,\n",
      "                  'hostage':0,\n",
      "                  'separatist':0,\n",
      "                  'inflation':0,\n",
      "                  'trouble':0,\n",
      "                  'fight':0,\n",
      "                  'fire':0,\n",
      "                  'threat':0,\n",
      "                  'bomb':0,\n",
      "                  'injure':0,\n",
      "                  'heroin':0,\n",
      "                  'crisis':0,\n",
      "                  'corruption':0}\n",
      "\n",
      "words_negative_a = deepcopy(words_negative)\n",
      "\n",
      "words_positive = {'survived':0,\n",
      "                  'rescued':0,\n",
      "                  'saved':0,\n",
      "                  'invested':0,\n",
      "                  'charm':0,\n",
      "                  'love':0,\n",
      "                  'volunteer':0,\n",
      "                  'deal':0,\n",
      "                  'diplomatic':0,\n",
      "                  'exercise':0,\n",
      "                  'foreign aid':0,\n",
      "                  'visa-free':0,\n",
      "                  'art':0,\n",
      "                  'peace':0}\n",
      "\n",
      "words_positive_a = deepcopy(words_positive)\n",
      "\n",
      "persons = {'Putin':0,\n",
      "           'Poroshenko':0,\n",
      "           'Obama':0,\n",
      "           'Merkel':0,\n",
      "           'Clinton':0,\n",
      "           'Lavrov':0,\n",
      "           'Kerry':0,\n",
      "           'Bush':0,\n",
      "           'Pope Francis':0,\n",
      "           'Hollande':0}\n",
      "\n",
      "persons_a = deepcopy(persons)\n",
      "\n",
      "countries = {'US':0,\n",
      "             'Ukraine':0,\n",
      "             'Canada':0,\n",
      "             'Russia':0,\n",
      "             'EU':0,\n",
      "             'Germany':0,\n",
      "             'China':0,\n",
      "             'Slovakia':0,\n",
      "             'Moldova':0,\n",
      "             'Poland':0,\n",
      "             'Greece':0,\n",
      "             'Australia':0,\n",
      "             'France':0,\n",
      "             'Greece':0,\n",
      "             'Italy':0,\n",
      "             'UK':0,\n",
      "             'Austria':0,\n",
      "             'Kazakhstan':0,\n",
      "             'Belarus':0,\n",
      "             'Czech':0,\n",
      "             'Spain':0,\n",
      "             'Belgium':0,\n",
      "             'Denmark':0}\n",
      "\n",
      "countries_a = deepcopy(countries)\n",
      "\n",
      "events = {'G-7':0,\n",
      "          'G7':0,\n",
      "          'World Cup':0}\n",
      "\n",
      "for j in range(min(100,num)):\n",
      "    payload = {'q'         : 'Ukraine', \n",
      "           'begin_date': '20030101' ,\n",
      "           'end_date'  : '20150731',\n",
      "           'api-key'   :  my_times_api_key,\n",
      "           'sort'      : 'newest',\n",
      "           'page'      : j }\n",
      "\n",
      "    base_url = 'http://api.nytimes.com/svc/search/v2/articlesearch.json?'\n",
      "    r = requests.get(base_url, params = payload)\n",
      "    json = r.json()\n",
      "    for i in range(0,10):\n",
      "        for word in corr1.columns:\n",
      "            if word.lower() in json['response']['docs'][i]['headline']['main'].lower():\n",
      "                corr1.set_value(j*10+i,word,1)\n",
      "            \n",
      "        for word in words_negative.keys():\n",
      "            if word in json['response']['docs'][i]['headline']['main'].lower():\n",
      "                words_negative[word] += 1\n",
      "        for word in words_positive.keys():\n",
      "            if word.lower() in json['response']['docs'][i]['headline']['main'].lower():\n",
      "                words_positive[word] += 1\n",
      "        for word in persons.keys():\n",
      "            if word.lower() in json['response']['docs'][i]['headline']['main'].lower():\n",
      "                persons[word] += 1\n",
      "        for word in countries.keys():\n",
      "            if word.lower() in json['response']['docs'][i]['headline']['main'].lower():\n",
      "                countries[word] += 1\n",
      "        for word in events.keys():\n",
      "            if word.lower() in json['response']['docs'][i]['headline']['main'].lower():\n",
      "                events[word] += 1\n",
      "                \n",
      "        if not json['response']['docs'][i]['lead_paragraph'] is None:\n",
      "            for word in words_negative_a.keys():\n",
      "                if word in json['response']['docs'][i]['lead_paragraph'].lower():\n",
      "                    words_negative_a[word] += 1\n",
      "            for word in words_positive_a.keys():\n",
      "                if word.lower() in json['response']['docs'][i]['lead_paragraph'].lower():\n",
      "                    words_positive_a[word] += 1\n",
      "            for word in persons_a.keys():\n",
      "                if word.lower() in json['response']['docs'][i]['lead_paragraph'].lower():\n",
      "                    persons_a[word] += 1\n",
      "            for word in countries_a.keys():\n",
      "                if word.lower() in json['response']['docs'][i]['lead_paragraph'].lower():\n",
      "                    countries_a[word] += 1\n",
      "        \n",
      "        if not len(json['response']['docs'][i]['multimedia']) == 0:\n",
      "            multimedia_count += 1\n",
      "        \n",
      "        words_count.set_value(j*10+i,'# of words',json['response']['docs'][i]['word_count'])\n",
      "                \n",
      "print words_negative\n",
      "print words_positive\n",
      "print persons\n",
      "print countries\n",
      "print events\n",
      "\n",
      "print words_negative_a\n",
      "print words_positive_a\n",
      "print persons_a\n",
      "print countries_a\n",
      "\n",
      "print multimedia_count\n",
      "print words_count['# of words'].mean()\n",
      "print words_count['# of words'].median()\n",
      "print words_count['# of words'].max()\n",
      "print words_count['# of words'].min()"
     ],
     "language": "python",
     "metadata": {},
     "outputs": [
      {
       "output_type": "stream",
       "stream": "stdout",
       "text": [
        "{'fight': 32, 'putin': 77, 'bomb': 5, 'mh17': 36, 'hostage': 3, 'dead': 8, 'missile': 7, 'separatist': 8, 'blockade': 1, 'inflation': 1, 'kill': 40, 'corruption': 5, 'sanction': 38, 'battle': 5, 'trouble': 5, 'debt': 23, 'vandal': 1, 'crisis': 21, 'fire': 14, 'tribunal': 27, 'target': 2, 'injure': 4, 'weapon': 12, 'crime': 14, 'soldier': 18, 'heroin': 2, 'troop': 16, 'threat': 18, 'terror': 3, 'communist': 1, 'war': 56, 'conflict': 8, 'protester': 4}\n",
        "{'love': 2, 'deal': 24, 'invested': 0, 'survived': 0, 'foreign aid': 1, 'saved': 0, 'volunteer': 1, 'art': 37, 'rescued': 0, 'peace': 12, 'diplomatic': 4, 'charm': 1, 'visa-free': 1, 'exercise': 8}\n",
        "{'Bush': 15, 'Putin': 77, 'Clinton': 2, 'Pope Francis': 1, 'Poroshenko': 7, 'Kerry': 7, 'Merkel': 15, 'Hollande': 5, 'Lavrov': 4, 'Obama': 31}\n",
        "{'Canada': 2, 'Italy': 6, 'France': 8, 'Slovakia': 1, 'Australia': 5, 'Germany': 18, 'Belgium': 0, 'China': 16, 'Kazakhstan': 4, 'Spain': 5, 'Ukraine': 285, 'Denmark': 0, 'Poland': 12, 'Moldova': 15, 'Belarus': 3, 'EU': 121, 'Russia': 312, 'Czech': 1, 'US': 434, 'Austria': 2, 'UK': 323, 'Greece': 17}\n",
        "{'G7': 18, 'World Cup': 21, 'G-7': 9}\n",
        "{'bomb': 9, 'mh17': 13, 'dead': 13, 'separatist': 74, 'kill': 50, 'sanction': 47, 'battle': 12, 'crime': 22, 'vandal': 2, 'crisis': 38, 'injure': 2, 'fight': 62, 'hostage': 5, 'protester': 5, 'terror': 7, 'communist': 1, 'corruption': 10, 'conflict': 46, 'putin': 93, 'fire': 53, 'missile': 14, 'blockade': 0, 'inflation': 2, 'trouble': 3, 'debt': 27, 'tribunal': 25, 'target': 4, 'weapon': 23, 'war': 111, 'soldier': 22, 'heroin': 2, 'troop': 27, 'threat': 29}\n",
        "{'charm': 0, 'art': 111, 'love': 0, 'deal': 38, 'rescued': 0, 'peace': 15, 'diplomatic': 8, 'invested': 1, 'survived': 0, 'foreign aid': 0, 'visa-free': 1, 'saved': 1, 'exercise': 15, 'volunteer': 2}\n",
        "{'Putin': 93, 'Kerry': 8, 'Poroshenko': 16, 'Merkel': 17, 'Hollande': 8, 'Bush': 12, 'Pope Francis': 5, 'Clinton': 2, 'Lavrov': 5, 'Obama': 38}\n",
        "{'Canada': 4, 'Italy': 12, 'France': 14, 'Slovakia': 4, 'Australia': 8, 'China': 20, 'Belgium': 1, 'Germany': 37, 'Kazakhstan': 4, 'Spain': 8, 'Ukraine': 379, 'Denmark': 0, 'Poland': 16, 'Moldova': 15, 'Belarus': 5, 'EU': 195, 'Russia': 417, 'Czech': 2, 'US': 581, 'Austria': 3, 'UK': 444, 'Greece': 17}\n",
        "200\n",
        "545.918918919\n",
        "416.0\n",
        "8078.0\n",
        "13.0\n"
       ]
      }
     ],
     "prompt_number": 215
    },
    {
     "cell_type": "heading",
     "level": 1,
     "metadata": {},
     "source": [
      "Some statistics about articles"
     ]
    },
    {
     "cell_type": "code",
     "collapsed": false,
     "input": [
      "words_count['# of words'].plot(figsize=(20,5), colormap = 'Set1')\n",
      "print words_count.idxmax()\n",
      "payload = {'q'         : 'Ukraine', \n",
      "           'begin_date': '20030101' ,\n",
      "           'end_date'  : '20150731',\n",
      "           'api-key'   :  my_times_api_key,\n",
      "           'sort'      : 'newest',\n",
      "           'page'      : 73 }\n",
      "\n",
      "base_url = 'http://api.nytimes.com/svc/search/v2/articlesearch.json?'\n",
      "r = requests.get(base_url, params = payload)\n",
      "json = r.json()\n",
      "\n",
      "print json['response']['docs'][0]\n",
      "print words_count.idxmin()\n",
      "\n",
      "payload = {'q'         : 'Ukraine', \n",
      "           'begin_date': '20030101' ,\n",
      "           'end_date'  : '20150731',\n",
      "           'api-key'   :  my_times_api_key,\n",
      "           'sort'      : 'newest',\n",
      "           'page'      : 0 }\n",
      "\n",
      "base_url = 'http://api.nytimes.com/svc/search/v2/articlesearch.json?'\n",
      "r = requests.get(base_url, params = payload)\n",
      "json = r.json()\n",
      "print json['response']['docs'][8]"
     ],
     "language": "python",
     "metadata": {},
     "outputs": [
      {
       "output_type": "stream",
       "stream": "stdout",
       "text": [
        "# of words    730\n",
        "dtype: int64\n",
        "{u'type_of_material': u'News', u'blog': [], u'news_desk': u'Magazine', u'lead_paragraph': u'From a nondescript office building in St. Petersburg, Russia, an army of well-paid \\u201ctrolls\\u201d has tried to wreak havoc all around the Internet \\u2014 and in real-life American communities.', u'headline': {u'main': u'The Agency', u'print_headline': u'The Agency', u'content_kicker': u'The Tech & Design Issue'}, u'abstract': u'Army of Internet trolls is being paid by shadowy organization in St Petersburg, Russia, known as The Internet Research Agency, to disseminate elaborate online hoaxes aimed at harming political opponents at home and perceived enemies abroad.', u'print_page': u'57', u'word_count': u'8078', u'_id': u'556d70a038f0d81d5c02ced5', u'snippet': u'From a nondescript office building in St. Petersburg, Russia, an army of well-paid \\u201ctrolls\\u201d has tried to wreak havoc all around the Internet \\u2014 and in real-life American communities.', u'source': u'The New York Times', u'web_url': u'http://www.nytimes.com/2015/06/07/magazine/the-agency.html', u'multimedia': [{u'subtype': u'wide', u'url': u'images/2015/06/07/magazine/07trolls1/07mag-07trolls-t_CA2-thumbWide.jpg', u'height': 126, u'width': 190, u'legacy': {u'wide': u'images/2015/06/07/magazine/07trolls1/07mag-07trolls-t_CA2-thumbWide.jpg', u'wideheight': u'126', u'widewidth': u'190'}, u'type': u'image'}, {u'subtype': u'xlarge', u'url': u'images/2015/06/07/magazine/07trolls1/07mag-07trolls-t_CA2-articleLarge.jpg', u'height': 400, u'width': 600, u'legacy': {u'xlargewidth': u'600', u'xlarge': u'images/2015/06/07/magazine/07trolls1/07mag-07trolls-t_CA2-articleLarge.jpg', u'xlargeheight': u'400'}, u'type': u'image'}, {u'subtype': u'thumbnail', u'url': u'images/2015/06/07/magazine/07trolls1/07mag-07trolls-t_CA2-thumbStandard.jpg', u'height': 75, u'width': 75, u'legacy': {u'thumbnailheight': u'75', u'thumbnail': u'images/2015/06/07/magazine/07trolls1/07mag-07trolls-t_CA2-thumbStandard.jpg', u'thumbnailwidth': u'75'}, u'type': u'image'}], u'subsection_name': None, u'keywords': [{u'value': u'Cyberharassment', u'is_major': u'Y', u'rank': u'1', u'name': u'subject'}, {u'value': u'Internet Research Agency (Russia)', u'is_major': u'Y', u'rank': u'2', u'name': u'organizations'}, {u'value': u'Russia', u'is_major': u'Y', u'rank': u'3', u'name': u'glocations'}, {u'value': u'Hoaxes and Pranks', u'is_major': u'N', u'rank': u'5', u'name': u'subject'}, {u'value': u'Computers and the Internet', u'is_major': u'N', u'rank': u'6', u'name': u'subject'}], u'byline': {u'person': [{u'organization': u'', u'role': u'reported', u'rank': 1, u'firstname': u'Adrian', u'lastname': u'CHEN'}], u'original': u'By ADRIAN CHEN'}, u'document_type': u'article', u'pub_date': u'2015-06-07T00:00:00Z', u'section_name': u'Magazine'}"
       ]
      },
      {
       "output_type": "stream",
       "stream": "stdout",
       "text": [
        "\n",
        "# of words    8\n",
        "dtype: int64\n",
        "{u'type_of_material': u'Blog', u'blog': [], u'news_desk': None, u'lead_paragraph': None, u'headline': {u'main': u'July 30, 2015 \\u2014 Pictures of the Day', u'kicker': u'Lens'}, u'abstract': u'Photos from Pakistan, Israel, Nepal and India.', u'print_page': None, u'word_count': u'13', u'_id': u'55ba979838f0d82ba98b90dd', u'snippet': u'Photos from Pakistan, Israel, Nepal and India.', u'source': u'The New York Times', u'web_url': u'http://lens.blogs.nytimes.com/2015/07/30/july-30-2015-pictures-of-the-day/', u'multimedia': [], u'subsection_name': None, u'keywords': [{u'value': u'Israel', u'name': u'glocations', u'rank': u'1'}, {u'value': u'Pakistan', u'name': u'glocations', u'rank': u'2'}, {u'value': u'Facebook Inc', u'name': u'organizations', u'rank': u'1'}, {u'value': u'Twitter', u'name': u'organizations', u'rank': u'2'}, {u'value': u'India', u'name': u'subject', u'rank': u'1'}, {u'value': u'Landslides and Mudslides', u'name': u'subject', u'rank': u'2'}, {u'value': u'Monsoons', u'name': u'subject', u'rank': u'3'}, {u'value': u'Photography', u'name': u'subject', u'rank': u'4'}, {u'value': u'Police Brutality, Misconduct and Shootings', u'name': u'subject', u'rank': u'5'}, {u'value': u'Social Media', u'name': u'subject', u'rank': u'6'}, {u'value': u'South Korea', u'name': u'subject', u'rank': u'7'}, {u'value': u'Ukraine', u'name': u'subject', u'rank': u'8'}, {u'value': u'United States', u'name': u'subject', u'rank': u'9'}], u'byline': {u'person': [], u'original': u'By THE NEW YORK TIMES', u'organization': u'The New York Times'}, u'document_type': u'blogpost', u'pub_date': u'2015-07-30T17:29:09Z', u'section_name': u'Multimedia'}"
       ]
      },
      {
       "output_type": "stream",
       "stream": "stdout",
       "text": [
        "\n"
       ]
      },
      {
       "metadata": {},
       "output_type": "display_data",
       "png": "[encoded data removed]",
       "text": [
        "<matplotlib.figure.Figure at 0x10ecb4510>"
       ]
      }
     ],
     "prompt_number": 227
    },
    {
     "cell_type": "heading",
     "level": 3,
     "metadata": {},
     "source": [
      "This graph shows number of words in selected articles. The biggest article has over 8000 words and the smallest one is over 600 times smaller - only 13 words. On average size is about 546 words. Median value if this variable is 416. Also 200 out of 1000 articles have some multimedia inside, e.g images. "
     ]
    },
    {
     "cell_type": "heading",
     "level": 3,
     "metadata": {},
     "source": [
      "The biggest article was published on 2015-06-07 and it`s headline is \"The Agency\". In this selection it has number 730. Snippet: From a nondescript office building in St. Petersburg, Russia, an army of well-paid trolls has tried to wreak havoc all around the Internet and in real-life American communities."
     ]
    },
    {
     "cell_type": "heading",
     "level": 3,
     "metadata": {},
     "source": [
      "\n",
      "The shortest article has just one photo of ukrainian soldiers. It was published on 31/07/2015."
     ]
    },
    {
     "cell_type": "code",
     "collapsed": false,
     "input": [
      "print corr1['Putin'].corr(corr1['war'])\n",
      "print corr1['Russia'].corr(corr1['war'])\n",
      "print corr1['Putin'].corr(corr1['MH17'])\n",
      "print corr1['Russia'].corr(corr1['soldier'])"
     ],
     "language": "python",
     "metadata": {},
     "outputs": [
      {
       "output_type": "stream",
       "stream": "stdout",
       "text": [
        "-0.00509012409373\n",
        "0.0143440512239\n",
        "-0.0155446633111\n",
        "-0.026234805204\n"
       ]
      }
     ],
     "prompt_number": 211
    },
    {
     "cell_type": "heading",
     "level": 3,
     "metadata": {},
     "source": [
      "Correlation coefficients are quite close to 0 so there`re probably no strict dependency between such pairs of words like Putin & war or Russia & soldier, etc..."
     ]
    },
    {
     "cell_type": "heading",
     "level": 1,
     "metadata": {},
     "source": [
      "What`re top mentioned countries in NYTimes news connected with Ukraine?"
     ]
    },
    {
     "cell_type": "code",
     "collapsed": false,
     "input": [
      "import operator\n",
      "countries_sorted = sorted(countries.items(), key=operator.itemgetter(1), reverse = True)\n",
      "print countries_sorted[:5]\n",
      "df = pd.DataFrame([country[1] for country in countries_sorted], index = [country[0] for country in countries_sorted] )\n",
      "df[0][:4].plot(kind='bar',figsize=(10,5), colormap = 'Set1', title = 'Top mentioned countries(headlines)', fontsize=15)"
     ],
     "language": "python",
     "metadata": {},
     "outputs": [
      {
       "output_type": "stream",
       "stream": "stdout",
       "text": [
        "[('US', 434), ('UK', 323), ('Russia', 312), ('Ukraine', 285), ('EU', 121)]\n"
       ]
      },
      {
       "metadata": {},
       "output_type": "pyout",
       "prompt_number": 175,
       "text": [
        "<matplotlib.axes._subplots.AxesSubplot at 0x10f02ce10>"
       ]
      },
      {
       "metadata": {},
       "output_type": "display_data",
       "png": "[encoded data removed]",
       "text": [
        "<matplotlib.figure.Figure at 0x10f02c550>"
       ]
      }
     ],
     "prompt_number": 175
    },
    {
     "cell_type": "heading",
     "level": 3,
     "metadata": {},
     "source": [
      "Ukraine is only on 4th place with 285 entries in news connected with Ukraine:) Before it we can see Russia, UK and US."
     ]
    },
    {
     "cell_type": "heading",
     "level": 1,
     "metadata": {},
     "source": [
      "And what about politicians?"
     ]
    },
    {
     "cell_type": "code",
     "collapsed": false,
     "input": [
      "persons_sorted = sorted(persons.items(), key=operator.itemgetter(1), reverse = True)\n",
      "print persons_sorted[:5]\n",
      "df = pd.DataFrame([person[1] for person in persons_sorted], index = [person[0] for person in persons_sorted] )\n",
      "df[0][:5].plot(kind='bar',figsize=(10,5), colormap = 'Set2', title = 'Top mentioned persons in headlines', fontsize=15)"
     ],
     "language": "python",
     "metadata": {},
     "outputs": [
      {
       "output_type": "stream",
       "stream": "stdout",
       "text": [
        "[('Putin', 77), ('Obama', 31), ('Bush', 15), ('Merkel', 15), ('Poroshenko', 7)]\n"
       ]
      },
      {
       "metadata": {},
       "output_type": "pyout",
       "prompt_number": 176,
       "text": [
        "<matplotlib.axes._subplots.AxesSubplot at 0x10e6422d0>"
       ]
      },
      {
       "metadata": {},
       "output_type": "display_data",
       "png": "[encoded data removed]",
       "text": [
        "<matplotlib.figure.Figure at 0x10db16250>"
       ]
      }
     ],
     "prompt_number": 176
    },
    {
     "cell_type": "heading",
     "level": 3,
     "metadata": {},
     "source": [
      "Ukrainian President Poroshenko was mentioned only 7 times in 1000 headlines and he has 5th position in this list. "
     ]
    },
    {
     "cell_type": "heading",
     "level": 1,
     "metadata": {},
     "source": [
      "BAD words"
     ]
    },
    {
     "cell_type": "code",
     "collapsed": false,
     "input": [
      "fig, axs = plt.subplots(1,2)\n",
      "words_negative_sorted = sorted(words_negative.items(), key=operator.itemgetter(1), reverse = True)\n",
      "df_bad1 = pd.DataFrame([word[1] for word in words_negative_sorted], index = [word[0] for word in words_negative_sorted] )\n",
      "df_bad1[0][:15].plot(ax = axs[0], kind='bar',figsize=(20,5), colormap = 'pink', title = 'The most common bad words in headlines', fontsize=15)\n",
      "sum_bad1 = 0\n",
      "for word in words_negative_sorted:\n",
      "    sum_bad1 += word[1]\n",
      "print sum_bad1\n",
      "words_negative_a_sorted = sorted(words_negative_a.items(), key=operator.itemgetter(1), reverse = True)\n",
      "df_bad2 = pd.DataFrame([word[1] for word in words_negative_a_sorted], index = [word[0] for word in words_negative_a_sorted] )\n",
      "df_bad2[0][:15].plot(ax = axs[1], kind='bar',figsize=(20,5), colormap = 'pink', title = 'The most common bad words in lead paragraph', fontsize=15)\n",
      "sum_bad2 = 0\n",
      "for word in words_negative_a_sorted:\n",
      "    sum_bad2 += word[1]\n",
      "print sum_bad2"
     ],
     "language": "python",
     "metadata": {},
     "outputs": [
      {
       "output_type": "stream",
       "stream": "stdout",
       "text": [
        "515\n",
        "853\n"
       ]
      },
      {
       "metadata": {},
       "output_type": "display_data",
       "png": "[encoded data removed]",
       "text": [
        "<matplotlib.figure.Figure at 0x10e62d750>"
       ]
      }
     ],
     "prompt_number": 171
    },
    {
     "cell_type": "heading",
     "level": 3,
     "metadata": {},
     "source": [
      "The most popular word on this the first list is Putin. He was mentioned 77 times. Near Putin there are war, kill and sanction. In the lead paragraphs statistics a little bit different but still 13 out of 15 words are the same."
     ]
    },
    {
     "cell_type": "heading",
     "level": 3,
     "metadata": {},
     "source": [
      "Totally all 33 selected bad words were mentioned 515 times in 1000 headlines which gives us only a little bit more than one bad word per two headlines on average. There were 853 bad words in lead paragraphs of these articles."
     ]
    },
    {
     "cell_type": "heading",
     "level": 1,
     "metadata": {},
     "source": [
      "GOOD words"
     ]
    },
    {
     "cell_type": "code",
     "collapsed": false,
     "input": [
      "fig, axs = plt.subplots(1,2)\n",
      "words_positive_sorted = sorted(words_positive.items(), key=operator.itemgetter(1), reverse = True)\n",
      "df_good1 = pd.DataFrame([word[1] for word in words_positive_sorted], index = [word[0] for word in words_positive_sorted] )\n",
      "df_good1[0][:7].plot(ax = axs[0], kind='bar',figsize=(20,5), colormap = 'BuGn', title = 'The most common good words in headlines', fontsize=15)\n",
      "sum_good1 = 0\n",
      "for word in words_positive_sorted:\n",
      "    sum_good1 += word[1]\n",
      "print sum_good1\n",
      "words_positive_a_sorted = sorted(words_positive_a.items(), key=operator.itemgetter(1), reverse = True)\n",
      "df_good2 = pd.DataFrame([word[1] for word in words_positive_a_sorted], index = [word[0] for word in words_positive_a_sorted] )\n",
      "df_good2[0][:7].plot(ax = axs[1], kind='bar',figsize=(20,5), colormap = 'cool', title = 'The most common good words in lead paragraph', fontsize=15)\n",
      "sum_good2 = 0\n",
      "for word in words_positive_a_sorted:\n",
      "    sum_good2 += word[1]\n",
      "print sum_good2"
     ],
     "language": "python",
     "metadata": {},
     "outputs": [
      {
       "output_type": "stream",
       "stream": "stdout",
       "text": [
        "79\n",
        "177\n"
       ]
      },
      {
       "metadata": {},
       "output_type": "display_data",
       "png": "[encoded data removed]",
       "text": [
        "<matplotlib.figure.Figure at 0x10f0fe6d0>"
       ]
      }
     ],
     "prompt_number": 174
    },
    {
     "cell_type": "heading",
     "level": 3,
     "metadata": {},
     "source": [
      "Leader between positive words is Art. It takes first place in both headlines and lead paragraphs. In the last it appeared 111 times."
     ]
    },
    {
     "cell_type": "heading",
     "level": 1,
     "metadata": {},
     "source": [
      "Sources of the news"
     ]
    },
    {
     "cell_type": "code",
     "collapsed": false,
     "input": [
      "sources = {}\n",
      "for j in range(min(100,num)):\n",
      "    payload = {'q'         : 'Ukraine', \n",
      "           'begin_date': '20030101' ,\n",
      "           'end_date'  : '20150731',\n",
      "           'api-key'   :  my_times_api_key,\n",
      "           'sort'      : 'newest',\n",
      "           'page'      : j }\n",
      "\n",
      "    base_url = 'http://api.nytimes.com/svc/search/v2/articlesearch.json?'\n",
      "    r = requests.get(base_url, params = payload)\n",
      "    json = r.json()\n",
      "    for i in range(0,10):\n",
      "        sources[json['response']['docs'][i]['source']] = 0\n",
      "        \n",
      "for j in range(min(100,num)):\n",
      "    payload = {'q'         : 'Ukraine', \n",
      "           'begin_date': '20030101' ,\n",
      "           'end_date'  : '20150731',\n",
      "           'api-key'   :  my_times_api_key,\n",
      "           'sort'      : 'newest',\n",
      "           'page'      : j }\n",
      "\n",
      "    base_url = 'http://api.nytimes.com/svc/search/v2/articlesearch.json?'\n",
      "    r = requests.get(base_url, params = payload)\n",
      "    json = r.json()\n",
      "    for i in range(0,10):\n",
      "        sources[json['response']['docs'][i]['source']] += 1        \n",
      "\n",
      "sources_sorted = sorted(sources.items(), key=operator.itemgetter(1), reverse = True)\n",
      "df_src = pd.DataFrame([src[1] for src in sources_sorted], index = [src[0] for src in sources_sorted] )\n",
      "df_src[0][:7].plot(kind='bar',figsize=(10,7), colormap = 'hot', title = 'Main sources', fontsize=15)"
     ],
     "language": "python",
     "metadata": {},
     "outputs": [
      {
       "metadata": {},
       "output_type": "pyout",
       "prompt_number": 198,
       "text": [
        "<matplotlib.axes._subplots.AxesSubplot at 0x10e6d6d90>"
       ]
      },
      {
       "metadata": {},
       "output_type": "display_data",
       "png": "[encoded data removed]",
       "text": [
        "<matplotlib.figure.Figure at 0x10e6e0350>"
       ]
      }
     ],
     "prompt_number": 198
    },
    {
     "cell_type": "heading",
     "level": 3,
     "metadata": {},
     "source": [
      "So the main source is Reuters. There are only 4 sources at all for these 1000 articles."
     ]
    }
   ],
   "metadata": {}
  }
 ]
}